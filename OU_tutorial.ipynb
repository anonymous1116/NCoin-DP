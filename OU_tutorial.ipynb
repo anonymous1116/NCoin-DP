{
  "cells": [
    {
      "cell_type": "markdown",
      "metadata": {
        "id": "view-in-github",
        "colab_type": "text"
      },
      "source": [
        "<a href=\"https://colab.research.google.com/github/h-j-hyun/NCoin-DP/blob/main/OU_tutorial.ipynb\" target=\"_parent\"><img src=\"https://colab.research.google.com/assets/colab-badge.svg\" alt=\"Open In Colab\"/></a>"
      ]
    },
    {
      "cell_type": "markdown",
      "source": [
        "This is an introductory implementation for NCoin-DP. As an example, we use OU process $$dX_t = \\kappa (\\beta - X_t) dt + \\sigma dB_t$$ wherer the observation size is $n=2000$ and the time interval $\\delta = 1/12$ with an initial value $X_0 \\sim N(\\beta, \\frac{\\sigma^2}{2\\kappa} )$ where $\\kappa>0, \\beta>0, \\sigma>0$."
      ],
      "metadata": {
        "id": "ZsiXUC4N8lZW"
      }
    },
    {
      "cell_type": "code",
      "execution_count": null,
      "metadata": {
        "id": "K06yEuRxKO2k"
      },
      "outputs": [],
      "source": [
        "import matplotlib.pyplot as plt\n",
        "import numpy as np\n",
        "import random\n",
        "import torch\n",
        "\n",
        "# Number of data points\n",
        "n = 2000\n",
        "\n",
        "# time inteval\n",
        "delta = 1/12\n",
        "\n",
        "# Observation time\n",
        "obtime = np.arange(0,n+1)/n * n * delta"
      ]
    },
    {
      "cell_type": "markdown",
      "source": [
        "Now, to run NCoin-DP, we create synthetic data using a closed form of the transitional density:\n",
        "$$\n",
        "p_\\theta(X) = \\Big( \\frac{1}{\\sqrt{\\pi \\sigma^2 (1-e^{-2\\kappa \\delta})}/\\kappa }\\Big)^n \\exp\\left( -\\sum_{i=1}^n \\frac{(X_i - X_{i-1}e^{-\\kappa \\delta}-\\beta(1-e^{-\\kappa \\delta}))^2}{\\sigma^2 (1-e^{-2\\kappa\\delta})/ \\kappa } \\right).\n",
        "$$"
      ],
      "metadata": {
        "id": "TMivGWY7RYkc"
      }
    },
    {
      "cell_type": "code",
      "execution_count": null,
      "metadata": {
        "id": "rozVNpvDKQx5"
      },
      "outputs": [],
      "source": [
        "def OU_simul_sample(L_OU, time_OU, y0_OU, mu_OU, theta_OU, sigma_OU):\n",
        "    \"\"\"\n",
        "    This function generates a sample path for OU process\n",
        "    L_OU: number of simulation number\n",
        "    y0: initial value \n",
        "    t: time array including initial point \n",
        "    mu, theta, sigma are parameters of OU process dX_t = theta (mu - X_t)dt + sigma dBt\n",
        "    \"\"\"\n",
        "    z0 = y0_OU\n",
        "    path_OU = torch.zeros(L_OU, time_OU.size)\n",
        "    for l in range(time_OU.size-1):\n",
        "      del_L = time_OU[l+1] - time_OU[l]\n",
        "      OU_mean = z0 * torch.exp(-mu_OU * del_L) + theta_OU * (1- torch.exp(-mu_OU * del_L))\n",
        "      OU_sd = torch.sqrt( sigma_OU**2/(2*mu_OU) * (1- torch.exp(-2 * mu_OU * del_L)) )\n",
        "      z0 = torch.normal(OU_mean, OU_sd)\n",
        "      path_OU[:,l] = z0\n",
        "    return(path_OU)"
      ]
    },
    {
      "cell_type": "markdown",
      "source": [
        "We let the parameter space $\\Theta$ of $(\\kappa, \\beta, \\sigma)$ as $ [1,5] \\times [1,2.5] \\times [0.5, 2]$. We generate 100,000 synthetic data and divide into training data (J = 90000), validation data (J' = 20000), and test data (J'' = 10000). Those values can be varied."
      ],
      "metadata": {
        "id": "D0Au6DQSUkTY"
      }
    },
    {
      "cell_type": "code",
      "execution_count": null,
      "metadata": {
        "colab": {
          "base_uri": "https://localhost:8080/"
        },
        "id": "zw4tqHtU1foq",
        "outputId": "4b363f4e-79c1-4473-c36d-3f2b3793eb54"
      },
      "outputs": [
        {
          "output_type": "stream",
          "name": "stdout",
          "text": [
            "torch.Size([100000, 3])\n"
          ]
        }
      ],
      "source": [
        "L = 100000\n",
        "Lval = 20000\n",
        "Ltest = 10000\n",
        "\n",
        "p = 3\n",
        "mu_range = [1, 5]# True mu = 3\n",
        "theta_range = [1, 2.5]# True theta = 2\n",
        "sigma_range = [0.5, 2]# True sigma = 1\n",
        "\n",
        "# Training + validation + Test data generating\n",
        "torch.manual_seed(510)\n",
        "mu_ran    = torch.rand(L) * (mu_range[1] -  mu_range[0]) + mu_range[0]  \n",
        "theta_ran = torch.rand(L) * (theta_range[1] -  theta_range[0]) + theta_range[0]\n",
        "sigma_ran = torch.rand(L) * (sigma_range[1] -  sigma_range[0]) + sigma_range[0]\n",
        "\n",
        "# Output: L x 3 matrix\n",
        "output = torch.stack((mu_ran, theta_ran, sigma_ran), dim = 1)"
      ]
    },
    {
      "cell_type": "markdown",
      "source": [
        "Note that the initial value is from $X_0 \\sim N(\\beta, \\frac{\\sigma^2}{2\\kappa} )$."
      ],
      "metadata": {
        "id": "Ei4PfludVuTK"
      }
    },
    {
      "cell_type": "code",
      "execution_count": null,
      "metadata": {
        "colab": {
          "base_uri": "https://localhost:8080/"
        },
        "id": "aKGwKJbLTrye",
        "outputId": "95519b51-53f4-4606-f3e8-c82495e5ceb0"
      },
      "outputs": [
        {
          "output_type": "stream",
          "name": "stdout",
          "text": [
            "torch.Size([100000, 2001])\n"
          ]
        }
      ],
      "source": [
        "# Generating the y simulated\n",
        "# It takes about a minute.\n",
        "torch.manual_seed(511)\n",
        "y0_tmp = torch.normal(theta_ran, torch.sqrt(sigma_ran**2/(2*mu_ran)))\n",
        "\n",
        "yL = OU_simul_sample(L, obtime, y0_tmp, mu_ran, theta_ran, sigma_ran)"
      ]
    },
    {
      "cell_type": "markdown",
      "source": [
        "We use input statistic $$u(X) = \\frac{1}{n}\\sum \\Big( X_{i-1}, X_{i}, X_{i-1}X_i, X_{i-1}^2,X_{i}^2\\Big)^\\top$$"
      ],
      "metadata": {
        "id": "CLFM0i6Fhv_D"
      }
    },
    {
      "cell_type": "code",
      "execution_count": null,
      "metadata": {
        "id": "4kia1p82AqiX"
      },
      "outputs": [],
      "source": [
        "def moment_L(X):\n",
        "    \"\"\"\n",
        "    X: torch size: [L,n]\n",
        "    \"\"\"\n",
        "    L0 = X.size()[0]\n",
        "    n0 = X.size()[1]\n",
        "\n",
        "    sum1 = torch.zeros(L0) # sum x_i x_{i-1}\n",
        "    sum2 = torch.zeros(L0) # sum x_i\n",
        "    sum3 = torch.zeros(L0) # sum x_{i-1}\n",
        "    sum4 = torch.zeros(L0) # sum x_{i-1}^2\n",
        "    sum5 = torch.zeros(L0) # sum x_{i}^2\n",
        "\n",
        "    for l in range(n0-1):\n",
        "      sum1 = sum1 + X[:,l+1] * X[:,l]\n",
        "      sum2 = sum2 + X[:,l+1]\n",
        "      sum3 = sum3 + X[:,l]\n",
        "      sum4 = sum4 + torch.pow(X[:,l],2)\n",
        "      sum5 = sum5 + torch.pow(X[:,l+1],2)\n",
        "\n",
        "    return(torch.stack((sum1/n0, sum2/n0, sum3/n0, sum4/n0, sum5/n0) ,1))\n",
        "X = moment_L(yL)"
      ]
    },
    {
      "cell_type": "code",
      "execution_count": null,
      "metadata": {
        "id": "EJLaLGnW4Iq4",
        "colab": {
          "base_uri": "https://localhost:8080/"
        },
        "outputId": "41998b8a-1dad-49fa-d975-60f24969c6bd"
      },
      "outputs": [
        {
          "output_type": "stream",
          "name": "stdout",
          "text": [
            "torch.Size([70000, 5]) torch.Size([20000, 5]) torch.Size([10000, 5])\n"
          ]
        }
      ],
      "source": [
        "X_train = X[range(0,L-Lval-Ltest),:]\n",
        "y_train = output[range(0,L-Lval-Ltest),:]\n",
        "\n",
        "X_val = X[range(L-Lval-Ltest,L-Ltest),:]\n",
        "y_val = output[range(L-Lval-Ltest,L-Ltest),:]\n",
        "\n",
        "X_test = X[range(L-Ltest,L),:]\n",
        "y_test = output[range(L-Ltest,L),:]\n",
        "\n",
        "print(X_train.size(), X_val.size(),X_test.size())"
      ]
    },
    {
      "cell_type": "code",
      "execution_count": null,
      "metadata": {
        "id": "YW_YvR5M4KMi"
      },
      "outputs": [],
      "source": [
        "import torch.optim as optim\n",
        "from torch.optim import Adam\n",
        "from torch.utils.data import DataLoader, TensorDataset\n",
        "# N is batch size; \n",
        "# D_in is input dimension;\n",
        "# H is hidden dimension; D_out is output dimension.\n",
        "#L = 1000 -> H = 64\n",
        "\n",
        "# Define the batch size\n",
        "BATCH_SIZE = 64\n",
        "\n",
        "# Use torch.utils.data to create a DataLoader \n",
        "# that will take care of creating batches \n",
        "dataset = TensorDataset(X_train, y_train)\n",
        "dataloader = DataLoader(dataset, batch_size = BATCH_SIZE, shuffle=True)"
      ]
    },
    {
      "cell_type": "markdown",
      "source": [
        "We use fully layers with dimension $64 \\times 128 \\times 64$ and add dropout in each layer."
      ],
      "metadata": {
        "id": "hVgPU5rTiXm6"
      }
    },
    {
      "cell_type": "code",
      "execution_count": null,
      "metadata": {
        "id": "-kxQKKpSQTMN"
      },
      "outputs": [],
      "source": [
        "import torch.nn as nn            # for torch.nn.Module, the parent object for PyTorch models\n",
        "import torch.nn.functional as F  # for the activation function\n",
        "\n",
        "# Create the model, loss function, and optimizer\n",
        "D_in, H, H2, H3, D_out = 5, 64, 128, 64, 3\n",
        "\n",
        "# Dropout rate\n",
        "p1, p2, p3 = .2, .2, .2\n",
        "torch.manual_seed(2725)\n",
        "\n",
        "class Net(nn.Module):\n",
        "    def __init__(self):\n",
        "        super(Net, self).__init__()\n",
        "        self.fc1 = nn.Linear(D_in, H)\n",
        "        self.bn1 = nn.BatchNorm1d(num_features=H)\n",
        "        self.dn1 = nn.Dropout(p1)\n",
        "        \n",
        "        self.fc2 = nn.Linear(H, H2)\n",
        "        self.bn2 = nn.BatchNorm1d(num_features=H2)\n",
        "        self.dn1 = nn.Dropout(p2)\n",
        "        \n",
        "        self.fc3 = nn.Linear(H2, H3)\n",
        "        self.bn3 = nn.BatchNorm1d(num_features=H3)\n",
        "        self.dn1 = nn.Dropout(p3)\n",
        "        \n",
        "        self.fc4 = nn.Linear(H3, 3)\n",
        "\n",
        "    def forward(self, x):\n",
        "        x = F.relu(self.bn1(self.fc1(x)))\n",
        "        x = F.relu(self.bn2(self.fc2(x)))\n",
        "        x = F.relu(self.bn3(self.fc3(x)))\n",
        "        x = self.fc4(x)\n",
        "        return x\n",
        "\n",
        "net = Net()"
      ]
    },
    {
      "cell_type": "code",
      "execution_count": null,
      "metadata": {
        "id": "cqOLeX1Fi_7K"
      },
      "outputs": [],
      "source": [
        "# Get the dataset size for printing (it is equal to N_SAMPLES)\n",
        "dataset_size = len(dataloader.dataset)"
      ]
    },
    {
      "cell_type": "markdown",
      "source": [
        "Prepare the setting for saving the models that give good performance. We connect google drive with this file."
      ],
      "metadata": {
        "id": "xiU9j67ZIN4P"
      }
    },
    {
      "cell_type": "code",
      "execution_count": null,
      "metadata": {
        "id": "AyRwgsp049sr",
        "colab": {
          "base_uri": "https://localhost:8080/"
        },
        "outputId": "5f567dec-3551-42f7-d5ed-29d680b28474"
      },
      "outputs": [
        {
          "output_type": "stream",
          "name": "stdout",
          "text": [
            "Drive already mounted at /content/gdrive1; to attempt to forcibly remount, call drive.mount(\"/content/gdrive1\", force_remount=True).\n"
          ]
        }
      ],
      "source": [
        "from google.colab import drive\n",
        "drive.mount('/content/gdrive1')\n",
        "model_save_name = 'OU_n2000.pt'\n",
        "path = F\"/content/gdrive1/My Drive/Colab Notebooks/{model_save_name}\" "
      ]
    },
    {
      "cell_type": "markdown",
      "source": [
        "We set the learning rate as 1e-4 and use Adam as optimizing tools with weigh_decay = 1e-5"
      ],
      "metadata": {
        "id": "Imt0y_uMLNTA"
      }
    },
    {
      "cell_type": "code",
      "execution_count": null,
      "metadata": {
        "id": "u7mF2AHYFL4h",
        "colab": {
          "base_uri": "https://localhost:8080/"
        },
        "outputId": "4d6a65e5-3cb4-424f-cd34-835e97cae36b"
      },
      "outputs": [
        {
          "output_type": "stream",
          "name": "stdout",
          "text": [
            "train_loss: 16.856339  [   64/70000]\n",
            "train_loss: 9.518724  [ 6464/70000]\n",
            "train_loss: 6.542116  [12864/70000]\n",
            "train_loss: 5.280068  [19264/70000]\n",
            "train_loss: 3.787000  [25664/70000]\n",
            "train_loss: 2.707949  [32064/70000]\n",
            "train_loss: 2.093524  [38464/70000]\n",
            "train_loss: 1.109389  [44864/70000]\n",
            "train_loss: 1.047537  [51264/70000]\n",
            "train_loss: 0.605776  [57664/70000]\n",
            "train_loss: 0.776155  [64064/70000]\n",
            "Epoch 1\n",
            "-------------------------------\n",
            "train_loss 1.046516 val_loss 1.196201\n",
            "0.0001\n",
            "Epoch 11\n",
            "-------------------------------\n",
            "train_loss 0.098931 val_loss 0.112906\n",
            "0.0001\n",
            "Epoch 21\n",
            "-------------------------------\n",
            "train_loss 0.058048 val_loss 0.068371\n",
            "0.0001\n",
            "Epoch 31\n",
            "-------------------------------\n",
            "train_loss 0.113567 val_loss 0.137337\n",
            "0.0001\n",
            "Epoch 41\n",
            "-------------------------------\n",
            "train_loss 0.051527 val_loss 0.060632\n",
            "0.0001\n",
            "train_loss: 0.055952  [   64/70000]\n",
            "train_loss: 0.074070  [ 6464/70000]\n",
            "train_loss: 0.097169  [12864/70000]\n",
            "train_loss: 0.056888  [19264/70000]\n",
            "train_loss: 0.046910  [25664/70000]\n",
            "train_loss: 0.055224  [32064/70000]\n",
            "train_loss: 0.079480  [38464/70000]\n",
            "train_loss: 0.062164  [44864/70000]\n",
            "train_loss: 0.067032  [51264/70000]\n",
            "train_loss: 0.052817  [57664/70000]\n",
            "train_loss: 0.199078  [64064/70000]\n",
            "Epoch 51\n",
            "-------------------------------\n",
            "train_loss 0.052625 val_loss 0.063053\n",
            "0.0001\n",
            "Epoch 61\n",
            "-------------------------------\n",
            "train_loss 0.063780 val_loss 0.075738\n",
            "0.0001\n",
            "Epoch 71\n",
            "-------------------------------\n",
            "train_loss 0.055661 val_loss 0.066363\n",
            "0.0001\n",
            "Epoch 81\n",
            "-------------------------------\n",
            "train_loss 0.055140 val_loss 0.064750\n",
            "0.0001\n",
            "Epoch 91\n",
            "-------------------------------\n",
            "train_loss 0.065448 val_loss 0.077406\n",
            "0.0001\n",
            "train_loss: 0.044316  [   64/70000]\n",
            "train_loss: 0.061306  [ 6464/70000]\n",
            "train_loss: 0.095096  [12864/70000]\n",
            "train_loss: 0.051965  [19264/70000]\n",
            "train_loss: 0.059769  [25664/70000]\n",
            "train_loss: 0.049623  [32064/70000]\n",
            "train_loss: 0.122533  [38464/70000]\n",
            "train_loss: 0.082684  [44864/70000]\n",
            "train_loss: 0.087740  [51264/70000]\n",
            "train_loss: 0.057106  [57664/70000]\n",
            "train_loss: 0.065608  [64064/70000]\n",
            "Epoch 101\n",
            "-------------------------------\n",
            "train_loss 0.052448 val_loss 0.062895\n",
            "1e-05\n",
            "Epoch 111\n",
            "-------------------------------\n",
            "train_loss 0.060441 val_loss 0.070519\n",
            "1e-05\n",
            "Epoch 121\n",
            "-------------------------------\n",
            "train_loss 0.048811 val_loss 0.057427\n",
            "1e-05\n",
            "Epoch 131\n",
            "-------------------------------\n",
            "train_loss 0.049754 val_loss 0.058149\n",
            "1e-05\n",
            "Epoch 141\n",
            "-------------------------------\n",
            "train_loss 0.071392 val_loss 0.083549\n",
            "1e-05\n",
            "train_loss: 0.063418  [   64/70000]\n",
            "train_loss: 0.077027  [ 6464/70000]\n",
            "train_loss: 0.058087  [12864/70000]\n",
            "train_loss: 0.079259  [19264/70000]\n",
            "train_loss: 0.044139  [25664/70000]\n",
            "train_loss: 0.049509  [32064/70000]\n",
            "train_loss: 0.046174  [38464/70000]\n",
            "train_loss: 0.049656  [44864/70000]\n",
            "train_loss: 0.069730  [51264/70000]\n",
            "train_loss: 0.061094  [57664/70000]\n",
            "train_loss: 0.055390  [64064/70000]\n",
            "Epoch 151\n",
            "-------------------------------\n",
            "train_loss 0.092887 val_loss 0.112091\n",
            "1e-05\n",
            "Epoch 161\n",
            "-------------------------------\n",
            "train_loss 0.087758 val_loss 0.105909\n",
            "1e-05\n",
            "Epoch 171\n",
            "-------------------------------\n",
            "train_loss 0.049849 val_loss 0.058894\n",
            "1e-05\n",
            "Epoch 181\n",
            "-------------------------------\n",
            "train_loss 0.071045 val_loss 0.081965\n",
            "1e-05\n",
            "Epoch 191\n",
            "-------------------------------\n",
            "train_loss 0.047085 val_loss 0.056017\n",
            "1e-05\n"
          ]
        }
      ],
      "source": [
        "# The nn package also contains definitions of popular loss functions; in this\n",
        "# case we will use Mean Squared Error (MSE) as our loss function.\n",
        "loss_fn = torch.nn.MSELoss(reduction='sum')\n",
        "learning_rate = 1e-4\n",
        "optimizer = torch.optim.Adam(net.parameters(), lr=learning_rate, weight_decay=1e-5)\n",
        "\n",
        "N_EPOCHS = 200\n",
        "train_error_plt = []\n",
        "val_error_plt = []\n",
        "\n",
        "# Loop over epochs\n",
        "for epoch in range(N_EPOCHS):\n",
        "    for id_batch, (x_batch, y_batch) in enumerate(dataloader):\n",
        "        y_batch_pred = net(x_batch)\n",
        "        loss = loss_fn(y_batch_pred, y_batch)\n",
        "      \n",
        "        optimizer.zero_grad()\n",
        "        loss.backward()\n",
        "        optimizer.step()\n",
        "\n",
        "        if epoch % 50 ==0 and id_batch % 100 == 0:\n",
        "            loss, current = loss.item(), (id_batch + 1)* len(x_batch)\n",
        "            print(f\"train_loss: {loss/BATCH_SIZE:>7f}  [{current:>5d}/{dataset_size:>5d}]\")\n",
        "    \n",
        "    with torch.no_grad():\n",
        "           net.eval()\n",
        "           theta_pred_train = net(X_train)\n",
        "           train_loss = loss_fn(theta_pred_train,y_train) / (L-Lval)\n",
        "           train_error_plt = np.append(train_error_plt, train_loss)\n",
        "           \n",
        "           theta_pred_val = net(X_val)\n",
        "           val_loss = loss_fn(y_val, theta_pred_val) / (Lval)\n",
        "           val_error_plt = np.append(val_error_plt, val_loss)\n",
        "           \n",
        "    if epoch % 10 ==0:\n",
        "        print(f\"Epoch {epoch + 1}\\n-------------------------------\")\n",
        "        print(f\"train_loss {train_loss:>7f} val_loss {val_loss:>7f}\")\n",
        "        print(learning_rate)\n",
        "            \n",
        "    # Choose Best Model\n",
        "    if val_error_plt[epoch] == np.min(val_error_plt):\n",
        "         best=epoch\n",
        "         torch.save(net.state_dict(), path)\n",
        "\n",
        "    if epoch % 100 ==99:\n",
        "        net.load_state_dict(torch.load(path))\n",
        "        learning_rate = max(learning_rate * 1e-1, 1e-9)"
      ]
    },
    {
      "cell_type": "code",
      "execution_count": null,
      "metadata": {
        "id": "F31haF2WsOjr",
        "colab": {
          "base_uri": "https://localhost:8080/",
          "height": 319
        },
        "outputId": "3eeb2e0b-bd53-4d42-a7f9-b156f38ab4cf"
      },
      "outputs": [
        {
          "output_type": "stream",
          "name": "stdout",
          "text": [
            "0.05247335135936737\n",
            "168\n"
          ]
        },
        {
          "output_type": "execute_result",
          "data": {
            "text/plain": [
              "<matplotlib.legend.Legend at 0x7fc68c569670>"
            ]
          },
          "metadata": {},
          "execution_count": 30
        },
        {
          "output_type": "display_data",
          "data": {
            "text/plain": [
              "<Figure size 432x288 with 1 Axes>"
            ],
            "image/png": "[encoded data removed]"
          },
          "metadata": {
            "needs_background": "light"
          }
        }
      ],
      "source": [
        "net.load_state_dict(torch.load(path))\n",
        "print(np.min(val_error_plt))\n",
        "print(np.argmin(val_error_plt))\n",
        "plt.plot(np.arange(N_EPOCHS), train_error_plt, color = \"r\")\n",
        "plt.plot(np.arange(N_EPOCHS), val_error_plt)\n",
        "plt.legend([\"train\", \"validation\"], loc =\"upper right\")"
      ]
    },
    {
      "cell_type": "markdown",
      "source": [
        "We can verify that the training and validation error decreases easily. \n",
        "\n",
        "Now let's check out the performance of learned mapping. We generate three cases of OU process where the true parameter is (3,2,1), (4,1.5,1.5) and (2, 1.1, 1.9). We iterate 3000 times."
      ],
      "metadata": {
        "id": "LlNcUP5vIqJ8"
      }
    },
    {
      "cell_type": "code",
      "execution_count": null,
      "metadata": {
        "id": "iT4uOrcNf_rp"
      },
      "outputs": [],
      "source": [
        "# Generate the simulation data to get the mean and standard deviation of estimated parameter\n",
        "sim = 3000\n",
        "\n",
        "param1 = torch.Tensor([3, 2, 1])\n",
        "param2 = torch.Tensor([4,1.5,1.5])\n",
        "param3 = torch.Tensor([2,1.1,1.9])\n",
        "\n",
        "y0_sim1 = torch.normal(torch.ones(sim) * param1[1], torch.ones(sim) * (param1[2]/ (2* param1[0])**(1/2) )) # (3,2,1)\n",
        "y0_sim2 = torch.normal(torch.ones(sim) * param2[1], torch.ones(sim) * (param2[2]/ (2* param2[0])**(1/2) )) # (4, 1.5, 1.5)\n",
        "y0_sim3 = torch.normal(torch.ones(sim) * param3[1], torch.ones(sim) * (param3[2]/ (2* param3[0])**(1/2) )) # (2, 1.1, 1.9)\n",
        "\n",
        "sim_data1 = OU_simul_sample(sim, obtime, y0_sim1, param1[0] * torch.ones(sim), param1[1] * torch.ones(sim), param1[2] * torch.ones(sim))\n",
        "sim_data2 = OU_simul_sample(sim, obtime, y0_sim2, param2[0] * torch.ones(sim), param2[1] * torch.ones(sim), param2[2] * torch.ones(sim))\n",
        "sim_data3 = OU_simul_sample(sim, obtime, y0_sim3, param3[0] * torch.ones(sim), param3[1] * torch.ones(sim), param3[2] * torch.ones(sim))\n",
        "\n",
        "sim_data1_mom = moment_L(sim_data1)\n",
        "sim_data2_mom = moment_L(sim_data2)\n",
        "sim_data3_mom = moment_L(sim_data3)"
      ]
    },
    {
      "cell_type": "markdown",
      "source": [
        "The followings are the average of estimates and its standard deviation."
      ],
      "metadata": {
        "id": "jzdmyVqgJGBV"
      }
    },
    {
      "cell_type": "code",
      "execution_count": null,
      "metadata": {
        "id": "83Aro8Me5ynd",
        "colab": {
          "base_uri": "https://localhost:8080/"
        },
        "outputId": "6226c909-74a7-4593-88ad-57e9426068ee"
      },
      "outputs": [
        {
          "output_type": "stream",
          "name": "stdout",
          "text": [
            "tensor([3.0877, 1.9996, 1.0143], grad_fn=<MeanBackward1>) torch.return_types.median(\n",
            "values=tensor([3.0767, 1.9981, 1.0139], grad_fn=<MedianBackward1>),\n",
            "indices=tensor([   4, 1186, 1014])) tensor([0.2016, 0.0271, 0.0180], grad_fn=<StdBackward0>)\n",
            "tensor([4.0050, 1.4966, 1.5033], grad_fn=<MeanBackward1>) torch.return_types.median(\n",
            "values=tensor([4.0084, 1.4975, 1.5036], grad_fn=<MedianBackward1>),\n",
            "indices=tensor([1251, 1876,   50])) tensor([0.2369, 0.0274, 0.0259], grad_fn=<StdBackward0>)\n",
            "tensor([1.9788, 1.1192, 1.8834], grad_fn=<MeanBackward1>) torch.return_types.median(\n",
            "values=tensor([1.9747, 1.1135, 1.8842], grad_fn=<MedianBackward1>),\n",
            "indices=tensor([ 206, 2852, 2140])) tensor([0.1786, 0.0487, 0.0331], grad_fn=<StdBackward0>)\n"
          ]
        }
      ],
      "source": [
        "net.eval()\n",
        "print(torch.mean(net(sim_data1_mom),0),torch.median(net(sim_data1_mom),0),torch.std(net(sim_data1_mom),0)) # (3,2,1)\n",
        "print(torch.mean(net(sim_data2_mom),0),torch.median(net(sim_data2_mom),0),torch.std(net(sim_data2_mom),0)) # (4, 1.5, 1.5)\n",
        "print(torch.mean(net(sim_data3_mom),0),torch.median(net(sim_data3_mom),0),torch.std(net(sim_data3_mom),0)) # (2, 1.1, 1.9#)"
      ]
    },
    {
      "cell_type": "markdown",
      "source": [
        "The followings are the RMSE of its estimation."
      ],
      "metadata": {
        "id": "ZJcso6fvJSFz"
      }
    },
    {
      "cell_type": "code",
      "execution_count": null,
      "metadata": {
        "id": "lCTpbXAFxIQL",
        "colab": {
          "base_uri": "https://localhost:8080/"
        },
        "outputId": "977f3b8b-5ee9-45fb-a001-aa8a393fd087"
      },
      "outputs": [
        {
          "output_type": "stream",
          "name": "stdout",
          "text": [
            "tensor(0.2227, grad_fn=<SqrtBackward0>)\n",
            "tensor(0.2399, grad_fn=<SqrtBackward0>)\n",
            "tensor(0.1909, grad_fn=<SqrtBackward0>)\n"
          ]
        }
      ],
      "source": [
        "print(torch.sqrt((torch.sum(torch.square(net(sim_data1_mom)[:,0] - param1[0])) +torch.sum(torch.square(net(sim_data1_mom)[:,1] - param1[1])) +torch.sum(torch.square(net(sim_data1_mom)[:,2] - param1[2]))) /sim ) )\n",
        "print(torch.sqrt((torch.sum(torch.square(net(sim_data2_mom)[:,0] - param2[0])) +torch.sum(torch.square(net(sim_data2_mom)[:,1] - param2[1])) +torch.sum(torch.square(net(sim_data2_mom)[:,2] - param2[2])))/sim) )\n",
        "print(torch.sqrt((torch.sum(torch.square(net(sim_data3_mom)[:,0] - param3[0])) +torch.sum(torch.square(net(sim_data3_mom)[:,1] - param3[1])) +torch.sum(torch.square(net(sim_data3_mom)[:,2] - param3[2])))/sim))"
      ]
    },
    {
      "cell_type": "markdown",
      "source": [
        "Followings are the procedure of learning checking procedure. We can easily see that points are around y=x graph."
      ],
      "metadata": {
        "id": "VZDo_Mv8JbjH"
      }
    },
    {
      "cell_type": "code",
      "execution_count": null,
      "metadata": {
        "id": "iJRlFnRBKNGc",
        "colab": {
          "base_uri": "https://localhost:8080/",
          "height": 376
        },
        "outputId": "a2cd8962-6c0d-460f-86a8-a37433e77d6c"
      },
      "outputs": [
        {
          "output_type": "display_data",
          "data": {
            "text/plain": [
              "<Figure size 1296x360 with 3 Axes>"
            ],
            "image/png": "[encoded data removed]"
          },
          "metadata": {
            "needs_background": "light"
          }
        }
      ],
      "source": [
        "with torch.no_grad():\n",
        "  net.eval()\n",
        "  tmp1 = net(X_test)[:,0]\n",
        "  tmp2 = net(X_test)[:,1]\n",
        "  tmp3 = net(X_test)[:,2]\n",
        "\n",
        "  tmp1 = tmp1.detach().cpu().numpy().tolist()\n",
        "  tmp2 = tmp2.detach().cpu().numpy().tolist()\n",
        "  tmp3 = tmp3.detach().cpu().numpy().tolist()\n",
        "\n",
        "\n",
        "\n",
        "\n",
        "# Plot for model checking\n",
        "lim1 = [mu_range[0] * 0.8, mu_range[1] * 1.1]\n",
        "lim2 = [theta_range[0] * 0.8, theta_range[1] * 1.1]\n",
        "lim3 = [sigma_range[0] * 0.8, sigma_range[1] * 1.1]\n",
        "\n",
        "fig, (ax1, ax2, ax3) = plt.subplots(1, 3, figsize=(18,5))\n",
        "fig.suptitle('Learning Checking')\n",
        "\n",
        "ax1.scatter(y_test[:,0], tmp1, marker='o', color='b', s = 1)\n",
        "ax1.set_xlabel('true $\\kappa$', fontsize=15)\n",
        "ax1.set_ylabel('$\\hat{\\kappa}$', fontsize=15)\n",
        "ax1.plot(np.linspace(lim1[0], lim1[1], 1000), np.linspace(lim1[0], lim1[1], 1000), color = \"red\", linestyle='dashed', linewidth = 2.5)\n",
        "ax1.set_axisbelow(True)\n",
        "ax1.grid(color='gray', linestyle='dashed')\n",
        "\n",
        "ax2.scatter(y_test[:,1], tmp2, marker='o', color='b', s = 1)\n",
        "ax2.set_xlabel(r'true $\\alpha$', fontsize=15 )\n",
        "ax2.set_ylabel(r'$\\hat{\\alpha}$', fontsize=15)\n",
        "ax2.plot(np.linspace(lim2[0], lim2[1], 1000), np.linspace(lim2[0], lim2[1], 1000), color = \"red\", linestyle='dashed', linewidth = 2.5)\n",
        "ax2.set_axisbelow(True)\n",
        "ax2.grid(color='gray', linestyle='dashed')\n",
        "\n",
        "ax3.scatter(y_test[:,2], tmp3, marker='o', color='b', s = 1)\n",
        "ax3.set_xlabel('true $\\sigma$', fontsize=15)\n",
        "ax3.set_ylabel('$\\hat{\\sigma}$', fontsize=15)\n",
        "ax3.plot(np.linspace(lim3[0], lim3[1], 1000), np.linspace(lim3[0], lim3[1], 1000), color = \"red\", linestyle='dashed', linewidth = 2.5)\n",
        "ax3.set_axisbelow(True)\n",
        "ax3.grid(color='gray', linestyle='dashed')\n",
        "\n",
        "plt.show()"
      ]
    },
    {
      "cell_type": "markdown",
      "source": [
        "Following codes are for the MLE estimation for OU process."
      ],
      "metadata": {
        "id": "iFl86dwKJkaX"
      }
    },
    {
      "cell_type": "code",
      "source": [
        "def MLE_OU(sim_OU, obtime_OU, delta_OU):\n",
        "  \"\"\"\n",
        "  sim_OU size : sim * n_OU\n",
        "  \"\"\"\n",
        "  sim_num = sim_OU.size()[0]\n",
        "  n_OU = len(obtime_OU)\n",
        "  n0_OU = n_OU -1\n",
        "  vec_xi = sim_OU[:, 1:]\n",
        "  vec_xim1 = sim_OU[:, :n0_OU]\n",
        "  beta1 = (torch.sum(vec_xi * vec_xim1,1) - 1/n0_OU * torch.sum(vec_xi, 1) * torch.sum(vec_xim1, 1) ) / (torch.sum(vec_xim1 ** 2, 1) - 1/n0_OU * (torch.sum(vec_xim1, 1))**2   ) # size : sim\n",
        "  beta2 = 1/n0_OU * (  torch.sum(vec_xi,1) - beta1 * torch.sum(vec_xim1,1) ) / (torch.ones(sim_num)-beta1) # size: sim\n",
        "  tmp1 =torch.transpose(torch.kron(beta1, torch.ones(n0_OU,1)),0,1 )\n",
        "  tmp2 =torch.transpose(torch.kron(beta2 * (torch.ones(sim_num)-beta1), torch.ones(n0_OU,1)),0,1 )\n",
        "  tmp_beta3 = (vec_xi - tmp1 * vec_xim1 - tmp2) # size: \n",
        "  beta3 = 1/n0_OU * torch.sum(tmp_beta3**2, 1)\n",
        "  mu = -torch.ones(sim_num) * torch.log(beta1) / delta_OU\n",
        "  alpha = beta2\n",
        "  sigma = torch.sqrt(2 * mu * beta3 / (torch.ones(sim_num) - beta1 ** 2 )) \n",
        "  return(torch.stack((mu, alpha,sigma), 1))\n",
        "\n",
        "results1_MLE = MLE_OU(sim_data1, obtime, delta)\n",
        "results2_MLE = MLE_OU(sim_data2, obtime, delta)\n",
        "results3_MLE = MLE_OU(sim_data3, obtime, delta)"
      ],
      "metadata": {
        "colab": {
          "base_uri": "https://localhost:8080/"
        },
        "id": "-Bpebt8G-kwV",
        "outputId": "041fcf01-b660-4215-d4b0-b70028b6edaa"
      },
      "execution_count": null,
      "outputs": [
        {
          "output_type": "stream",
          "name": "stdout",
          "text": [
            "tensor([3.0332, 1.9959, 1.0168]) tensor([0.2200, 0.0262, 0.0184])\n",
            "tensor([4.0316, 1.4973, 1.5071]) tensor([0.2563, 0.0298, 0.0276])\n",
            "tensor([2.0305, 1.0965, 1.9033]) tensor([0.1718, 0.0746, 0.0325])\n",
            "tensor(0.2254)\n",
            "tensor(0.2614)\n",
            "tensor(0.1926)\n"
          ]
        }
      ]
    },
    {
      "cell_type": "markdown",
      "source": [
        "**Individual results for NCoin-DP and MLE**"
      ],
      "metadata": {
        "id": "KP8Lb8hUPlHU"
      }
    },
    {
      "cell_type": "code",
      "source": [
        "print(\"NCoin-DP\")\n",
        "print(torch.mean(net(sim_data1_mom),0),torch.std(net(sim_data1_mom),0)) # (3,2,1)\n",
        "print(torch.mean(net(sim_data2_mom),0),torch.std(net(sim_data2_mom),0)) # (4, 1.5, 1.5)\n",
        "print(torch.mean(net(sim_data3_mom),0),torch.std(net(sim_data3_mom),0)) # (2, 1.1, 1.9#)\n",
        "\n",
        "print(\"MLE\")\n",
        "print(torch.mean(results1_MLE,0),torch.std(results1_MLE,0) )\n",
        "print(torch.mean(results2_MLE,0),torch.std(results2_MLE,0) )\n",
        "print(torch.mean(results3_MLE,0),torch.std(results3_MLE,0) )"
      ],
      "metadata": {
        "id": "jFCdKYZZAAdi",
        "colab": {
          "base_uri": "https://localhost:8080/"
        },
        "outputId": "81d1545c-053a-4553-b317-4cb50357cb57"
      },
      "execution_count": null,
      "outputs": [
        {
          "output_type": "stream",
          "name": "stdout",
          "text": [
            "NCoin-DP\n",
            "tensor([3.0877, 1.9996, 1.0143], grad_fn=<MeanBackward1>) tensor([0.2016, 0.0271, 0.0180], grad_fn=<StdBackward0>)\n",
            "tensor([4.0050, 1.4966, 1.5033], grad_fn=<MeanBackward1>) tensor([0.2369, 0.0274, 0.0259], grad_fn=<StdBackward0>)\n",
            "tensor([1.9788, 1.1192, 1.8834], grad_fn=<MeanBackward1>) tensor([0.1786, 0.0487, 0.0331], grad_fn=<StdBackward0>)\n",
            "MLE\n",
            "tensor([3.0332, 1.9959, 1.0168]) tensor([0.2200, 0.0262, 0.0184])\n",
            "tensor([4.0316, 1.4973, 1.5071]) tensor([0.2563, 0.0298, 0.0276])\n",
            "tensor([2.0305, 1.0965, 1.9033]) tensor([0.1718, 0.0746, 0.0325])\n"
          ]
        }
      ]
    },
    {
      "cell_type": "markdown",
      "source": [
        "**RMSE**"
      ],
      "metadata": {
        "id": "uPQy4GyXQUBL"
      }
    },
    {
      "cell_type": "code",
      "source": [
        "print(\"NCoin-DP\")\n",
        "print(torch.sqrt((torch.sum(torch.square(net(sim_data1_mom)[:,0] - param1[0])) +torch.sum(torch.square(net(sim_data1_mom)[:,1] - param1[1])) +torch.sum(torch.square(net(sim_data1_mom)[:,2] - param1[2]))) /sim ) )\n",
        "print(torch.sqrt((torch.sum(torch.square(net(sim_data2_mom)[:,0] - param2[0])) +torch.sum(torch.square(net(sim_data2_mom)[:,1] - param2[1])) +torch.sum(torch.square(net(sim_data2_mom)[:,2] - param2[2])))/sim) )\n",
        "print(torch.sqrt((torch.sum(torch.square(net(sim_data3_mom)[:,0] - param3[0])) +torch.sum(torch.square(net(sim_data3_mom)[:,1] - param3[1])) +torch.sum(torch.square(net(sim_data3_mom)[:,2] - param3[2])))/sim))\n",
        "\n",
        "print(\"MLE\")\n",
        "print(torch.sqrt((torch.sum(torch.square(results1_MLE[:,0] - param1[0])) +torch.sum(torch.square(results1_MLE[:,1] - param1[1])) +torch.sum(torch.square(results1_MLE[:,2] -param1[2]))) /sim ) )\n",
        "print(torch.sqrt((torch.sum(torch.square(results2_MLE[:,0] - param2[0])) +torch.sum(torch.square(results2_MLE[:,1] - param2[1])) +torch.sum(torch.square(results2_MLE[:,2] -param2[2]))) /sim ) )\n",
        "print(torch.sqrt((torch.sum(torch.square(results3_MLE[:,0] - param3[0])) +torch.sum(torch.square(results3_MLE[:,1] - param3[1])) +torch.sum(torch.square(results3_MLE[:,2] -param3[2]))) /sim ) )"
      ],
      "metadata": {
        "colab": {
          "base_uri": "https://localhost:8080/"
        },
        "id": "Lbxm9xMSPzFO",
        "outputId": "1a7cecd1-a7ed-4c1a-fbf1-f1e47ebbf6de"
      },
      "execution_count": null,
      "outputs": [
        {
          "output_type": "stream",
          "name": "stdout",
          "text": [
            "NCoin-DP\n",
            "tensor(0.2227, grad_fn=<SqrtBackward0>)\n",
            "tensor(0.2399, grad_fn=<SqrtBackward0>)\n",
            "tensor(0.1909, grad_fn=<SqrtBackward0>)\n",
            "MLE\n",
            "tensor(0.2254)\n",
            "tensor(0.2614)\n",
            "tensor(0.1926)\n"
          ]
        }
      ]
    }
  ],
  "metadata": {
    "accelerator": "GPU",
    "colab": {
      "machine_shape": "hm",
      "provenance": [],
      "authorship_tag": "ABX9TyMjs67RRYga5DJUTSo1sPzw",
      "include_colab_link": true
    },
    "gpuClass": "standard",
    "kernelspec": {
      "display_name": "Python 3",
      "name": "python3"
    },
    "language_info": {
      "name": "python"
    }
  },
  "nbformat": 4,
  "nbformat_minor": 0
}