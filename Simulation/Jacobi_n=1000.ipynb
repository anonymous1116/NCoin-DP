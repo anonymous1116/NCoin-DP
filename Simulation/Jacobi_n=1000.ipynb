{
  "cells": [
    {
      "cell_type": "markdown",
      "metadata": {
        "id": "view-in-github",
        "colab_type": "text"
      },
      "source": [
        "<a href=\"https://colab.research.google.com/github/h-j-hyun/NCoin-DP/blob/main/Jacobi_n%3D1000.ipynb\" target=\"_parent\"><img src=\"https://colab.research.google.com/assets/colab-badge.svg\" alt=\"Open In Colab\"/></a>"
      ]
    },
    {
      "cell_type": "code",
      "execution_count": 1,
      "metadata": {
        "id": "XOZTM9OF357o"
      },
      "outputs": [],
      "source": [
        "import matplotlib.pyplot as plt\n",
        "import numpy as np\n",
        "import torch\n",
        "\n",
        "# Number of data points\n",
        "n = 1000\n",
        "\n",
        "#Initial value \n",
        "y0 = 0.1\n",
        "\n",
        "# time inteval\n",
        "delta = 1/12\n",
        "\n",
        "# Generating x\n",
        "obtime = np.arange(0,n+1)/n * n * delta"
      ]
    },
    {
      "cell_type": "code",
      "execution_count": 2,
      "metadata": {
        "id": "pZvuSJFVd3II"
      },
      "outputs": [],
      "source": [
        "def Jacobi_sample(del_Jacobi, m_Jacobi, y0_Jacobi, a_Jacobi, b_Jacobi, sigma_Jacobi):\n",
        "    \"\"\"\n",
        "    This function generates a one sample path between an interval for Jacobi process\n",
        "    y0_Jacobi: initial value\n",
        "    m : num of slice of each interval\n",
        "    t_Jacobi: time array including initial point\n",
        "    a, b, sigma are parameters of Jacobi process dX_t = a (b - X_t)dt + \\sigma sqrt{X_t (1- X_t)} dBt\n",
        "    \"\"\"\n",
        "    L_tmp = a_Jacobi.size()[0]\n",
        "    del_tmp = del_Jacobi / m_Jacobi\n",
        "    z0 = y0_Jacobi\n",
        "    for j in range(m_Jacobi):\n",
        "        ran_num = torch.normal(0 * torch.ones(L_tmp),1 * torch.ones(L_tmp))\n",
        "        z0 = z0 + a_Jacobi*(b_Jacobi-z0)*del_tmp + sigma_Jacobi*torch.mul(torch.sqrt(z0),torch.sqrt(torch.ones(L_tmp)-z0))*((del_tmp)**(1/2))*ran_num + (torch.pow(sigma_Jacobi,2) )/4*(torch.ones(L_tmp)-2*z0)*(del_tmp*(torch.pow(ran_num,2)-1)) # Milstein approximation\n",
        "        z0 = torch.max(z0,0 * torch.ones(L_tmp))\n",
        "        z0 = torch.min(z0,1 * torch.ones(L_tmp))\n",
        "    return(z0)"
      ]
    },
    {
      "cell_type": "code",
      "execution_count": 3,
      "metadata": {
        "id": "IzoP7iT7wstL"
      },
      "outputs": [],
      "source": [
        "def Jacobi_multisample(L_Jacobi, time_Jacobi, m_Jacobi, y0_Jacobi, a_Jacobi, b_Jacobi, sigma_Jacobi):\n",
        "    \"\"\"\n",
        "    This function generates a sample path for Jacobi process\n",
        "    L_Jacobi: number of simulation number\n",
        "    y0_Jacobi: initial value\n",
        "    m : num of slice of each interval\n",
        "    t_Jacobi: time array including initial point\n",
        "    a, b, sigma are parameters of Jacobi process dX_t = a (b - X_t)dt + \\sigma sqrt{X_t (1- X_t)} dBt\n",
        "    \"\"\"\n",
        "    tmp = y0_Jacobi\n",
        "    path_Jacobi = torch.zeros(L_Jacobi, time_Jacobi.size)\n",
        "    path_Jacobi[:,0] = y0_Jacobi\n",
        "    for l in range(time_Jacobi.size-1):\n",
        "      del_L = time_Jacobi[l+1] - time_Jacobi[l]\n",
        "      new_path = Jacobi_sample(del_L, m_Jacobi, tmp, a_Jacobi, b_Jacobi, sigma_Jacobi) \n",
        "      path_Jacobi[:,l+1] = new_path\n",
        "      tmp = torch.clone(new_path)\n",
        "    return(path_Jacobi)"
      ]
    },
    {
      "cell_type": "code",
      "execution_count": 4,
      "metadata": {
        "colab": {
          "base_uri": "https://localhost:8080/"
        },
        "id": "zw4tqHtU1foq",
        "outputId": "a8707489-f4ea-4391-8742-e34e81ec9332"
      },
      "outputs": [
        {
          "output_type": "stream",
          "name": "stdout",
          "text": [
            "torch.Size([100000, 3])\n"
          ]
        }
      ],
      "source": [
        "L = 100000\n",
        "Lval = 20000\n",
        "Ltest = 10000\n",
        "p = 3\n",
        "\n",
        "# Uniform range of parameters\n",
        "a_range = [1, 5]# True a = 3\n",
        "b_range = [0.2, 0.7]# True b = 0.5\n",
        "sigma_range = [0.1, 0.7]# True sigma = 0.5\n",
        "\n",
        "# Training + Test data generating\n",
        "# Randomly generating from uniform distribution\n",
        "torch.manual_seed(510)\n",
        "a_ran     = torch.rand(L) * (a_range[1]     -  a_range[0]) + a_range[0]  \n",
        "b_ran     = torch.rand(L) * (b_range[1]     -  b_range[0]) + b_range[0]\n",
        "sigma_ran = torch.rand(L) * (sigma_range[1] -  sigma_range[0]) + sigma_range[0]\n",
        "\n",
        "# Output: L x 3 matrix\n",
        "output = torch.stack((a_ran, b_ran, sigma_ran), dim = 1)\n",
        "print(output.size())"
      ]
    },
    {
      "cell_type": "code",
      "execution_count": 5,
      "metadata": {
        "colab": {
          "base_uri": "https://localhost:8080/"
        },
        "id": "aKGwKJbLTrye",
        "outputId": "09979c96-aaf5-4f25-ca08-5ed67e01297f"
      },
      "outputs": [
        {
          "output_type": "stream",
          "name": "stdout",
          "text": [
            "torch.Size([100000, 1001])\n"
          ]
        }
      ],
      "source": [
        "# Generating the y simulated\n",
        "# It can take about a minute.\n",
        "a_L = output[:,0]\n",
        "b_L = output[:,1]\n",
        "sigma_L = output[:,2]\n",
        "\n",
        "y0_tmp = y0 * torch.ones(L)\n",
        "\n",
        "yL = Jacobi_multisample(L, obtime, 20, y0_tmp, a_L, b_L, sigma_L)\n",
        "print(yL.size())"
      ]
    },
    {
      "cell_type": "code",
      "execution_count": 6,
      "metadata": {
        "id": "liwAJA0GMNT9"
      },
      "outputs": [],
      "source": [
        "def moment_L(X):\n",
        "    \"\"\"\n",
        "    X: torch size: [L,n]\n",
        "    \"\"\"\n",
        "    L0 = X.size()[0]\n",
        "    n0 = X.size()[1]\n",
        "\n",
        "    sum1 = torch.zeros(L0) # sum x_i x_{i-1}\n",
        "    sum2 = torch.zeros(L0) # sum x_i\n",
        "    sum3 = torch.zeros(L0) # sum x_{i-1}\n",
        "    sum4 = torch.zeros(L0) # sum x_{i-1}^2\n",
        "    sum5 = torch.zeros(L0) # sum x_{i}^2\n",
        "    sum6 = torch.zeros(L0) # sum x_{i-1}^2 * sum x_i\n",
        "    sum7 = torch.zeros(L0) # sum x_{i-1}^3 * sum x_i\n",
        "\n",
        "    for l in range(n0-1):\n",
        "      sum1 = sum1 + X[:,l+1] * X[:,l]\n",
        "      sum2 = sum2 + X[:,l+1]\n",
        "      sum3 = sum3 + X[:,l]\n",
        "      \n",
        "      sum4 = sum4 + torch.pow(X[:,l],2)\n",
        "      sum5 = sum5 + torch.pow(X[:,l+1],2)\n",
        "      sum6 = sum6 + torch.pow(X[:,l],2) * X[:,l+1]\n",
        "      sum7 = sum7 + torch.pow(X[:,l],3) * X[:,l+1]\n",
        "\n",
        "    return(torch.stack((sum1/n0, sum2/n0, sum3/n0, sum4/n0, sum5/n0, sum6/n0, sum7/n0) ,1))\n",
        "X = moment_L(yL)"
      ]
    },
    {
      "cell_type": "code",
      "execution_count": 7,
      "metadata": {
        "colab": {
          "base_uri": "https://localhost:8080/"
        },
        "id": "EJLaLGnW4Iq4",
        "outputId": "66d1db76-e301-4cc5-b2e4-ba5717b1fe2d"
      },
      "outputs": [
        {
          "output_type": "stream",
          "name": "stdout",
          "text": [
            "torch.Size([70000, 7]) torch.Size([20000, 7]) torch.Size([10000, 7])\n"
          ]
        }
      ],
      "source": [
        "X_train = X[range(0,L-Lval-Ltest),:]\n",
        "y_train = output[range(0,L-Lval-Ltest),:]\n",
        "\n",
        "X_val = X[range(L-Lval-Ltest,L-Ltest),:]\n",
        "y_val = output[range(L-Lval-Ltest,L-Ltest),:]\n",
        "\n",
        "X_test = X[range(L-Ltest,L),:]\n",
        "y_test = output[range(L-Ltest,L),:]\n",
        "\n",
        "\n",
        "print(X_train.size(), X_val.size(),X_test.size())"
      ]
    },
    {
      "cell_type": "code",
      "execution_count": 8,
      "metadata": {
        "id": "YW_YvR5M4KMi"
      },
      "outputs": [],
      "source": [
        "import torch\n",
        "import torch.optim as optim\n",
        "from torch.optim import Adam\n",
        "from torch.utils.data import DataLoader, TensorDataset\n",
        "# N is batch size; \n",
        "# D_in is input dimension;\n",
        "# H is hidden dimension; D_out is output dimension.\n",
        "#L = 1000 -> H = 64\n",
        "\n",
        "# Define the batch size\n",
        "BATCH_SIZE = 64\n",
        "\n",
        "# Use torch.utils.data to create a DataLoader \n",
        "# that will take care of creating batches \n",
        "dataset = TensorDataset(X_train, y_train)\n",
        "dataloader = DataLoader(dataset, batch_size = BATCH_SIZE, shuffle=True)"
      ]
    },
    {
      "cell_type": "code",
      "execution_count": 9,
      "metadata": {
        "id": "-kxQKKpSQTMN"
      },
      "outputs": [],
      "source": [
        "import torch.nn as nn            # for torch.nn.Module, the parent object for PyTorch models\n",
        "import torch.nn.functional as F  # for the activation function\n",
        "\n",
        "# Create the model, loss function, and optimizer\n",
        "D_in, H, H2, H3, D_out = X_train.size()[1], 128, 128, 128, p\n",
        "\n",
        "# Dropout rate\n",
        "p1, p2, p3 = .2, .2, .2\n",
        "torch.manual_seed(2726)\n",
        "\n",
        "class Net(nn.Module):\n",
        "    def __init__(self):\n",
        "        super(Net, self).__init__()\n",
        "        self.fc1 = nn.Linear(D_in, H)\n",
        "        self.bn1 = nn.BatchNorm1d(num_features=H)\n",
        "        self.dn1 = nn.Dropout(p1)\n",
        "        \n",
        "        self.fc2 = nn.Linear(H, H2)\n",
        "        self.bn2 = nn.BatchNorm1d(num_features=H2)\n",
        "        self.dn1 = nn.Dropout(p2)\n",
        "        \n",
        "        self.fc3 = nn.Linear(H2, H3)\n",
        "        self.bn3 = nn.BatchNorm1d(num_features=H3)\n",
        "        self.dn1 = nn.Dropout(p3)\n",
        "        \n",
        "        self.fc4 = nn.Linear(H3, 3)\n",
        "\n",
        "    def forward(self, x):\n",
        "        x = F.relu(self.bn1(self.fc1(x)))\n",
        "        x = F.relu(self.bn2(self.fc2(x)))\n",
        "        x = F.relu(self.bn3(self.fc3(x)))\n",
        "        x = self.fc4(x)\n",
        "        return x\n",
        "\n",
        "net = Net()"
      ]
    },
    {
      "cell_type": "code",
      "execution_count": 10,
      "metadata": {
        "id": "cqOLeX1Fi_7K"
      },
      "outputs": [],
      "source": [
        "# Get the dataset size for printing (it is equal to N_SAMPLES)\n",
        "dataset_size = len(dataloader.dataset)"
      ]
    },
    {
      "cell_type": "code",
      "execution_count": 11,
      "metadata": {
        "colab": {
          "base_uri": "https://localhost:8080/"
        },
        "id": "hg99BcTjCdc9",
        "outputId": "0997bfd2-dd85-4573-f9af-9b5286ac5017"
      },
      "outputs": [
        {
          "output_type": "stream",
          "name": "stdout",
          "text": [
            "Mounted at /content/gdrive\n"
          ]
        }
      ],
      "source": [
        "from google.colab import drive\n",
        "drive.mount('/content/gdrive')\n",
        "model_save_name = 'Jacobi_n1000.pt'\n",
        "path = F\"/content/gdrive/My Drive/{model_save_name}\" "
      ]
    },
    {
      "cell_type": "code",
      "execution_count": 12,
      "metadata": {
        "colab": {
          "base_uri": "https://localhost:8080/"
        },
        "id": "u7mF2AHYFL4h",
        "outputId": "6c02244c-ec4d-4cc8-ed48-e0b26eb4b5f7"
      },
      "outputs": [
        {
          "output_type": "stream",
          "name": "stdout",
          "text": [
            "train_loss: 10.081817  [   64/70000]\n",
            "train_loss: 5.454699  [ 6464/70000]\n",
            "train_loss: 3.962239  [12864/70000]\n",
            "train_loss: 2.593562  [19264/70000]\n",
            "train_loss: 1.385587  [25664/70000]\n",
            "train_loss: 1.220851  [32064/70000]\n",
            "train_loss: 0.789135  [38464/70000]\n",
            "train_loss: 0.681156  [44864/70000]\n",
            "train_loss: 1.149289  [51264/70000]\n",
            "train_loss: 0.610903  [57664/70000]\n",
            "train_loss: 0.679805  [64064/70000]\n",
            "Epoch 1\n",
            "-------------------------------\n",
            "train_loss 0.948300 val_loss 1.073097\n",
            "0.0001\n",
            "train_loss: 0.256571  [   64/70000]\n",
            "train_loss: 0.212064  [ 6464/70000]\n",
            "train_loss: 0.328733  [12864/70000]\n",
            "train_loss: 0.283846  [19264/70000]\n",
            "train_loss: 0.206089  [25664/70000]\n",
            "train_loss: 0.280587  [32064/70000]\n",
            "train_loss: 0.229758  [38464/70000]\n",
            "train_loss: 0.341287  [44864/70000]\n",
            "train_loss: 0.278947  [51264/70000]\n",
            "train_loss: 0.255019  [57664/70000]\n",
            "train_loss: 0.356430  [64064/70000]\n",
            "Epoch 11\n",
            "-------------------------------\n",
            "train_loss 0.386766 val_loss 0.433985\n",
            "0.0001\n",
            "train_loss: 0.250691  [   64/70000]\n",
            "train_loss: 0.213957  [ 6464/70000]\n",
            "train_loss: 0.364939  [12864/70000]\n",
            "train_loss: 0.212466  [19264/70000]\n",
            "train_loss: 0.171995  [25664/70000]\n",
            "train_loss: 0.251628  [32064/70000]\n",
            "train_loss: 0.146222  [38464/70000]\n",
            "train_loss: 0.318450  [44864/70000]\n",
            "train_loss: 0.221195  [51264/70000]\n",
            "train_loss: 0.281136  [57664/70000]\n",
            "train_loss: 0.171758  [64064/70000]\n",
            "Epoch 21\n",
            "-------------------------------\n",
            "train_loss 0.323532 val_loss 0.363356\n",
            "0.0001\n",
            "train_loss: 0.128042  [   64/70000]\n",
            "train_loss: 0.297939  [ 6464/70000]\n",
            "train_loss: 0.160079  [12864/70000]\n",
            "train_loss: 0.178032  [19264/70000]\n",
            "train_loss: 0.191509  [25664/70000]\n",
            "train_loss: 0.157994  [32064/70000]\n",
            "train_loss: 0.197256  [38464/70000]\n",
            "train_loss: 0.192344  [44864/70000]\n",
            "train_loss: 0.121133  [51264/70000]\n",
            "train_loss: 0.241203  [57664/70000]\n",
            "train_loss: 0.210421  [64064/70000]\n",
            "Epoch 31\n",
            "-------------------------------\n",
            "train_loss 0.227732 val_loss 0.268354\n",
            "0.0001\n",
            "train_loss: 0.157603  [   64/70000]\n",
            "train_loss: 0.126890  [ 6464/70000]\n",
            "train_loss: 0.139945  [12864/70000]\n",
            "train_loss: 0.129729  [19264/70000]\n",
            "train_loss: 0.166946  [25664/70000]\n",
            "train_loss: 0.105658  [32064/70000]\n",
            "train_loss: 0.127403  [38464/70000]\n",
            "train_loss: 0.202633  [44864/70000]\n",
            "train_loss: 0.138851  [51264/70000]\n",
            "train_loss: 0.200530  [57664/70000]\n",
            "train_loss: 0.262158  [64064/70000]\n",
            "Epoch 41\n",
            "-------------------------------\n",
            "train_loss 0.235603 val_loss 0.272892\n",
            "0.0001\n",
            "train_loss: 0.114866  [   64/70000]\n",
            "train_loss: 0.295456  [ 6464/70000]\n",
            "train_loss: 0.213051  [12864/70000]\n",
            "train_loss: 0.168333  [19264/70000]\n",
            "train_loss: 0.117433  [25664/70000]\n",
            "train_loss: 0.203313  [32064/70000]\n",
            "train_loss: 0.148607  [38464/70000]\n",
            "train_loss: 0.329977  [44864/70000]\n",
            "train_loss: 0.164001  [51264/70000]\n",
            "train_loss: 0.154453  [57664/70000]\n",
            "train_loss: 0.286793  [64064/70000]\n",
            "Epoch 51\n",
            "-------------------------------\n",
            "train_loss 0.143147 val_loss 0.161170\n",
            "0.0001\n",
            "train_loss: 0.141469  [   64/70000]\n",
            "train_loss: 0.167429  [ 6464/70000]\n",
            "train_loss: 0.260328  [12864/70000]\n",
            "train_loss: 0.154808  [19264/70000]\n",
            "train_loss: 0.189774  [25664/70000]\n",
            "train_loss: 0.107260  [32064/70000]\n",
            "train_loss: 0.120042  [38464/70000]\n",
            "train_loss: 0.193404  [44864/70000]\n",
            "train_loss: 0.292859  [51264/70000]\n",
            "train_loss: 0.150873  [57664/70000]\n",
            "train_loss: 0.389618  [64064/70000]\n",
            "Epoch 61\n",
            "-------------------------------\n",
            "train_loss 0.287520 val_loss 0.330429\n",
            "0.0001\n",
            "train_loss: 0.141488  [   64/70000]\n",
            "train_loss: 0.148301  [ 6464/70000]\n",
            "train_loss: 0.260940  [12864/70000]\n",
            "train_loss: 0.235426  [19264/70000]\n",
            "train_loss: 0.176093  [25664/70000]\n",
            "train_loss: 0.200099  [32064/70000]\n",
            "train_loss: 0.186435  [38464/70000]\n",
            "train_loss: 0.161249  [44864/70000]\n",
            "train_loss: 0.286429  [51264/70000]\n",
            "train_loss: 0.172878  [57664/70000]\n",
            "train_loss: 0.149667  [64064/70000]\n",
            "Epoch 71\n",
            "-------------------------------\n",
            "train_loss 0.143128 val_loss 0.161154\n",
            "0.0001\n",
            "train_loss: 0.131968  [   64/70000]\n",
            "train_loss: 0.152968  [ 6464/70000]\n",
            "train_loss: 0.297900  [12864/70000]\n",
            "train_loss: 0.136639  [19264/70000]\n",
            "train_loss: 0.325472  [25664/70000]\n",
            "train_loss: 0.192556  [32064/70000]\n",
            "train_loss: 0.127750  [38464/70000]\n",
            "train_loss: 0.140051  [44864/70000]\n",
            "train_loss: 0.214054  [51264/70000]\n",
            "train_loss: 0.217800  [57664/70000]\n",
            "train_loss: 0.218125  [64064/70000]\n",
            "Epoch 81\n",
            "-------------------------------\n",
            "train_loss 0.247432 val_loss 0.279864\n",
            "0.0001\n",
            "train_loss: 0.140758  [   64/70000]\n",
            "train_loss: 0.164451  [ 6464/70000]\n",
            "train_loss: 0.461524  [12864/70000]\n",
            "train_loss: 0.273298  [19264/70000]\n",
            "train_loss: 0.242430  [25664/70000]\n",
            "train_loss: 0.154213  [32064/70000]\n",
            "train_loss: 0.138313  [38464/70000]\n",
            "train_loss: 0.398848  [44864/70000]\n",
            "train_loss: 0.126262  [51264/70000]\n",
            "train_loss: 0.188546  [57664/70000]\n",
            "train_loss: 0.124673  [64064/70000]\n",
            "Epoch 91\n",
            "-------------------------------\n",
            "train_loss 0.105173 val_loss 0.122678\n",
            "0.0001\n",
            "train_loss: 0.134002  [   64/70000]\n",
            "train_loss: 0.100615  [ 6464/70000]\n",
            "train_loss: 0.152701  [12864/70000]\n",
            "train_loss: 0.148796  [19264/70000]\n",
            "train_loss: 0.084580  [25664/70000]\n",
            "train_loss: 0.142679  [32064/70000]\n",
            "train_loss: 0.329830  [38464/70000]\n",
            "train_loss: 0.109994  [44864/70000]\n",
            "train_loss: 0.162238  [51264/70000]\n",
            "train_loss: 0.216151  [57664/70000]\n",
            "train_loss: 0.120013  [64064/70000]\n",
            "Epoch 101\n",
            "-------------------------------\n",
            "train_loss 0.443052 val_loss 0.521535\n",
            "1e-05\n",
            "train_loss: 0.224192  [   64/70000]\n",
            "train_loss: 0.157020  [ 6464/70000]\n",
            "train_loss: 0.269671  [12864/70000]\n",
            "train_loss: 0.167585  [19264/70000]\n",
            "train_loss: 0.121490  [25664/70000]\n",
            "train_loss: 0.161499  [32064/70000]\n",
            "train_loss: 0.271043  [38464/70000]\n",
            "train_loss: 0.166346  [44864/70000]\n",
            "train_loss: 0.154172  [51264/70000]\n",
            "train_loss: 0.207621  [57664/70000]\n",
            "train_loss: 0.267495  [64064/70000]\n",
            "Epoch 111\n",
            "-------------------------------\n",
            "train_loss 0.140910 val_loss 0.164992\n",
            "1e-05\n",
            "train_loss: 0.104307  [   64/70000]\n",
            "train_loss: 0.161471  [ 6464/70000]\n",
            "train_loss: 0.278544  [12864/70000]\n",
            "train_loss: 0.261798  [19264/70000]\n",
            "train_loss: 0.367531  [25664/70000]\n",
            "train_loss: 0.202590  [32064/70000]\n",
            "train_loss: 0.164033  [38464/70000]\n",
            "train_loss: 0.156434  [44864/70000]\n",
            "train_loss: 0.145464  [51264/70000]\n",
            "train_loss: 0.166931  [57664/70000]\n",
            "train_loss: 0.166946  [64064/70000]\n",
            "Epoch 121\n",
            "-------------------------------\n",
            "train_loss 0.108422 val_loss 0.123300\n",
            "1e-05\n",
            "train_loss: 0.128653  [   64/70000]\n",
            "train_loss: 0.235565  [ 6464/70000]\n",
            "train_loss: 0.181342  [12864/70000]\n",
            "train_loss: 0.117791  [19264/70000]\n",
            "train_loss: 0.172541  [25664/70000]\n",
            "train_loss: 0.138322  [32064/70000]\n",
            "train_loss: 0.103873  [38464/70000]\n",
            "train_loss: 0.154856  [44864/70000]\n",
            "train_loss: 0.092633  [51264/70000]\n",
            "train_loss: 0.153204  [57664/70000]\n",
            "train_loss: 0.146221  [64064/70000]\n",
            "Epoch 131\n",
            "-------------------------------\n",
            "train_loss 0.121410 val_loss 0.136364\n",
            "1e-05\n",
            "train_loss: 0.171273  [   64/70000]\n",
            "train_loss: 0.106731  [ 6464/70000]\n",
            "train_loss: 0.145401  [12864/70000]\n",
            "train_loss: 0.197973  [19264/70000]\n",
            "train_loss: 0.142076  [25664/70000]\n",
            "train_loss: 0.217256  [32064/70000]\n",
            "train_loss: 0.244793  [38464/70000]\n",
            "train_loss: 0.284239  [44864/70000]\n",
            "train_loss: 0.130596  [51264/70000]\n",
            "train_loss: 0.113198  [57664/70000]\n",
            "train_loss: 0.066392  [64064/70000]\n",
            "Epoch 141\n",
            "-------------------------------\n",
            "train_loss 0.227520 val_loss 0.258861\n",
            "1e-05\n",
            "train_loss: 0.138142  [   64/70000]\n",
            "train_loss: 0.114727  [ 6464/70000]\n",
            "train_loss: 0.133457  [12864/70000]\n",
            "train_loss: 0.151688  [19264/70000]\n",
            "train_loss: 0.107927  [25664/70000]\n",
            "train_loss: 0.141517  [32064/70000]\n",
            "train_loss: 0.252779  [38464/70000]\n",
            "train_loss: 0.145890  [44864/70000]\n",
            "train_loss: 0.184271  [51264/70000]\n",
            "train_loss: 0.239882  [57664/70000]\n",
            "train_loss: 0.125239  [64064/70000]\n",
            "Epoch 151\n",
            "-------------------------------\n",
            "train_loss 0.119308 val_loss 0.131809\n",
            "1e-05\n",
            "train_loss: 0.319346  [   64/70000]\n",
            "train_loss: 0.085367  [ 6464/70000]\n",
            "train_loss: 0.111170  [12864/70000]\n",
            "train_loss: 0.222989  [19264/70000]\n",
            "train_loss: 0.219005  [25664/70000]\n",
            "train_loss: 0.136546  [32064/70000]\n",
            "train_loss: 0.186403  [38464/70000]\n",
            "train_loss: 0.147684  [44864/70000]\n",
            "train_loss: 0.202967  [51264/70000]\n",
            "train_loss: 0.104118  [57664/70000]\n",
            "train_loss: 0.249557  [64064/70000]\n",
            "Epoch 161\n",
            "-------------------------------\n",
            "train_loss 0.109897 val_loss 0.127099\n",
            "1e-05\n",
            "train_loss: 0.122025  [   64/70000]\n",
            "train_loss: 0.246797  [ 6464/70000]\n",
            "train_loss: 0.133210  [12864/70000]\n",
            "train_loss: 0.168742  [19264/70000]\n",
            "train_loss: 0.111914  [25664/70000]\n",
            "train_loss: 0.130091  [32064/70000]\n",
            "train_loss: 0.158662  [38464/70000]\n",
            "train_loss: 0.159687  [44864/70000]\n",
            "train_loss: 0.186266  [51264/70000]\n",
            "train_loss: 0.151980  [57664/70000]\n",
            "train_loss: 0.152558  [64064/70000]\n",
            "Epoch 171\n",
            "-------------------------------\n",
            "train_loss 0.122005 val_loss 0.137222\n",
            "1e-05\n",
            "train_loss: 0.149499  [   64/70000]\n",
            "train_loss: 0.188833  [ 6464/70000]\n",
            "train_loss: 0.097486  [12864/70000]\n",
            "train_loss: 0.166332  [19264/70000]\n",
            "train_loss: 0.129323  [25664/70000]\n",
            "train_loss: 0.138054  [32064/70000]\n",
            "train_loss: 0.159414  [38464/70000]\n",
            "train_loss: 0.222955  [44864/70000]\n",
            "train_loss: 0.155028  [51264/70000]\n",
            "train_loss: 0.137155  [57664/70000]\n",
            "train_loss: 0.212392  [64064/70000]\n",
            "Epoch 181\n",
            "-------------------------------\n",
            "train_loss 0.099161 val_loss 0.115182\n",
            "1e-05\n",
            "train_loss: 0.320997  [   64/70000]\n",
            "train_loss: 0.109477  [ 6464/70000]\n",
            "train_loss: 0.217000  [12864/70000]\n",
            "train_loss: 0.078816  [19264/70000]\n",
            "train_loss: 0.208904  [25664/70000]\n",
            "train_loss: 0.128266  [32064/70000]\n",
            "train_loss: 0.147492  [38464/70000]\n",
            "train_loss: 0.284579  [44864/70000]\n",
            "train_loss: 0.104093  [51264/70000]\n",
            "train_loss: 0.110838  [57664/70000]\n",
            "train_loss: 0.134747  [64064/70000]\n",
            "Epoch 191\n",
            "-------------------------------\n",
            "train_loss 0.088127 val_loss 0.102698\n",
            "1e-05\n",
            "train_loss: 0.084711  [   64/70000]\n",
            "train_loss: 0.149330  [ 6464/70000]\n",
            "train_loss: 0.302117  [12864/70000]\n",
            "train_loss: 0.130915  [19264/70000]\n",
            "train_loss: 0.141506  [25664/70000]\n",
            "train_loss: 0.184916  [32064/70000]\n",
            "train_loss: 0.126241  [38464/70000]\n",
            "train_loss: 0.159648  [44864/70000]\n",
            "train_loss: 0.111776  [51264/70000]\n",
            "train_loss: 0.169504  [57664/70000]\n",
            "train_loss: 0.185113  [64064/70000]\n",
            "Epoch 201\n",
            "-------------------------------\n",
            "train_loss 0.105516 val_loss 0.119397\n",
            "1.0000000000000002e-06\n",
            "train_loss: 0.166120  [   64/70000]\n",
            "train_loss: 0.167676  [ 6464/70000]\n",
            "train_loss: 0.171541  [12864/70000]\n",
            "train_loss: 0.086584  [19264/70000]\n",
            "train_loss: 0.175033  [25664/70000]\n",
            "train_loss: 0.189257  [32064/70000]\n",
            "train_loss: 0.100737  [38464/70000]\n",
            "train_loss: 0.369083  [44864/70000]\n",
            "train_loss: 0.117125  [51264/70000]\n",
            "train_loss: 0.159055  [57664/70000]\n",
            "train_loss: 0.198211  [64064/70000]\n",
            "Epoch 211\n",
            "-------------------------------\n",
            "train_loss 0.101407 val_loss 0.117374\n",
            "1.0000000000000002e-06\n",
            "train_loss: 0.371481  [   64/70000]\n",
            "train_loss: 0.131209  [ 6464/70000]\n",
            "train_loss: 0.107060  [12864/70000]\n",
            "train_loss: 0.125276  [19264/70000]\n",
            "train_loss: 0.289905  [25664/70000]\n",
            "train_loss: 0.246855  [32064/70000]\n",
            "train_loss: 0.200075  [38464/70000]\n",
            "train_loss: 0.293425  [44864/70000]\n",
            "train_loss: 0.113440  [51264/70000]\n",
            "train_loss: 0.087422  [57664/70000]\n",
            "train_loss: 0.162651  [64064/70000]\n",
            "Epoch 221\n",
            "-------------------------------\n",
            "train_loss 0.122182 val_loss 0.139705\n",
            "1.0000000000000002e-06\n",
            "train_loss: 0.219528  [   64/70000]\n",
            "train_loss: 0.197384  [ 6464/70000]\n",
            "train_loss: 0.119123  [12864/70000]\n",
            "train_loss: 0.128574  [19264/70000]\n",
            "train_loss: 0.181091  [25664/70000]\n",
            "train_loss: 0.116496  [32064/70000]\n",
            "train_loss: 0.198988  [38464/70000]\n",
            "train_loss: 0.303132  [44864/70000]\n",
            "train_loss: 0.088943  [51264/70000]\n",
            "train_loss: 0.107356  [57664/70000]\n",
            "train_loss: 0.151923  [64064/70000]\n",
            "Epoch 231\n",
            "-------------------------------\n",
            "train_loss 0.108100 val_loss 0.122728\n",
            "1.0000000000000002e-06\n",
            "train_loss: 0.265126  [   64/70000]\n",
            "train_loss: 0.157669  [ 6464/70000]\n",
            "train_loss: 0.101645  [12864/70000]\n",
            "train_loss: 0.187744  [19264/70000]\n",
            "train_loss: 0.122015  [25664/70000]\n",
            "train_loss: 0.183771  [32064/70000]\n",
            "train_loss: 0.163653  [38464/70000]\n",
            "train_loss: 0.113080  [44864/70000]\n",
            "train_loss: 0.114563  [51264/70000]\n",
            "train_loss: 0.109931  [57664/70000]\n",
            "train_loss: 0.195846  [64064/70000]\n",
            "Epoch 241\n",
            "-------------------------------\n",
            "train_loss 0.147469 val_loss 0.165787\n",
            "1.0000000000000002e-06\n"
          ]
        }
      ],
      "source": [
        "# The nn package also contains definitions of popular loss functions; in this\n",
        "# case we will use Mean Squared Error (MSE) as our loss function.\n",
        "loss_fn = torch.nn.MSELoss(reduction='sum')\n",
        "learning_rate = 1e-4\n",
        "optimizer = torch.optim.Adam(net.parameters(), lr=learning_rate, weight_decay=1e-5)\n",
        "\n",
        "N_EPOCHS = 250\n",
        "train_error_plt = []\n",
        "val_error_plt = []\n",
        "\n",
        "# Loop over epochs\n",
        "for epoch in range(N_EPOCHS):\n",
        "    for id_batch, (x_batch, y_batch) in enumerate(dataloader):\n",
        "        y_batch_pred = net(x_batch)\n",
        "        loss = loss_fn(y_batch_pred, y_batch)\n",
        "      \n",
        "        optimizer.zero_grad()\n",
        "        loss.backward()\n",
        "        optimizer.step()\n",
        "\n",
        "        if epoch % 10 ==0 and id_batch % 100 == 0:\n",
        "            loss, current = loss.item(), (id_batch + 1)* len(x_batch)\n",
        "            print(f\"train_loss: {loss/BATCH_SIZE:>7f}  [{current:>5d}/{dataset_size:>5d}]\")\n",
        "    \n",
        "    with torch.no_grad():\n",
        "           net.eval()\n",
        "           theta_pred_train = net(X_train)\n",
        "           train_loss = loss_fn(theta_pred_train,y_train) / (L-Lval)\n",
        "           train_error_plt = np.append(train_error_plt, train_loss)\n",
        "           \n",
        "           theta_pred_val = net(X_val)\n",
        "           val_loss = loss_fn(y_val, theta_pred_val) / (Lval)\n",
        "           val_error_plt = np.append(val_error_plt, val_loss)\n",
        "           \n",
        "    if epoch % 10 ==0:\n",
        "        print(f\"Epoch {epoch + 1}\\n-------------------------------\")\n",
        "        print(f\"train_loss {train_loss:>7f} val_loss {val_loss:>7f}\")\n",
        "        print(learning_rate)\n",
        "            \n",
        "    # Choose Best Model\n",
        "    if val_error_plt[epoch] == np.min(val_error_plt):\n",
        "         best=epoch\n",
        "         torch.save(net.state_dict(), path)\n",
        "\n",
        "    if epoch % 100 ==99:\n",
        "        net.load_state_dict(torch.load(path))\n",
        "        learning_rate = max(learning_rate * 1e-1, 1e-10)  "
      ]
    },
    {
      "cell_type": "code",
      "execution_count": 13,
      "metadata": {
        "id": "-X4DJVXO6-QJ",
        "colab": {
          "base_uri": "https://localhost:8080/",
          "height": 319
        },
        "outputId": "610467be-70a0-462a-d5f8-0d7936af836b"
      },
      "outputs": [
        {
          "output_type": "stream",
          "name": "stdout",
          "text": [
            "0.10045646876096725\n",
            "208\n"
          ]
        },
        {
          "output_type": "execute_result",
          "data": {
            "text/plain": [
              "<matplotlib.legend.Legend at 0x7f9a4a640c40>"
            ]
          },
          "metadata": {},
          "execution_count": 13
        },
        {
          "output_type": "display_data",
          "data": {
            "text/plain": [
              "<Figure size 432x288 with 1 Axes>"
            ],
            "image/png": "[encoded data removed]"
          },
          "metadata": {
            "needs_background": "light"
          }
        }
      ],
      "source": [
        "net.load_state_dict(torch.load(path))\n",
        "print(np.min(val_error_plt))\n",
        "print(np.argmin(val_error_plt))\n",
        "\n",
        "plt.plot(np.arange(N_EPOCHS), train_error_plt, color = \"r\")\n",
        "plt.plot(np.arange(N_EPOCHS), val_error_plt)\n",
        "plt.legend([\"train\", \"validation\"], loc =\"upper right\")\n",
        "\n"
      ]
    },
    {
      "cell_type": "code",
      "execution_count": 14,
      "metadata": {
        "id": "DlIKb0s-oEtl",
        "colab": {
          "base_uri": "https://localhost:8080/",
          "height": 376
        },
        "outputId": "bbcbdfac-5b13-419b-81c1-31e7f53f435d"
      },
      "outputs": [
        {
          "output_type": "display_data",
          "data": {
            "text/plain": [
              "<Figure size 1296x360 with 3 Axes>"
            ],
            "image/png": "[encoded data removed]"
          },
          "metadata": {
            "needs_background": "light"
          }
        }
      ],
      "source": [
        "with torch.no_grad():\n",
        "  net.eval()\n",
        "  tmp1 = net(X_test)[:,0]\n",
        "  tmp2 = net(X_test)[:,1]\n",
        "  tmp3 = net(X_test)[:,2]\n",
        "\n",
        "  tmp1 = tmp1.detach().cpu().numpy().tolist()\n",
        "  tmp2 = tmp2.detach().cpu().numpy().tolist()\n",
        "  tmp3 = tmp3.detach().cpu().numpy().tolist()\n",
        "\n",
        "# Plot for model checking\n",
        "lim1 = [a_range[0] * 0.8, a_range[1] * 1.1]\n",
        "lim2 = [b_range[0] * 0.8, b_range[1] * 1.1]\n",
        "lim3 = [sigma_range[0] * 0.8, sigma_range[1] * 1.1]\n",
        "\n",
        "fig, (ax1, ax2, ax3) = plt.subplots(1, 3, figsize=(18,5))\n",
        "fig.suptitle('Learning Checking')\n",
        "\n",
        "ax1.scatter(y_test[:,0], tmp1, marker='o', color='b', s =1)\n",
        "ax1.set_xlabel('true $\\kappa$', fontsize=15)\n",
        "ax1.set_ylabel('$\\hat{\\kappa}$', fontsize=15)\n",
        "ax1.plot(np.linspace(lim1[0], lim1[1], 1000), np.linspace(lim1[0], lim1[1], 1000), color = \"red\", linestyle='dashed', linewidth = 2.5)\n",
        "ax1.set_axisbelow(True)\n",
        "ax1.grid(color='gray', linestyle='dashed')\n",
        "\n",
        "ax2.scatter(y_test[:,1], tmp2, marker='o', color='b', s =1)\n",
        "ax2.set_xlabel(r'true $\\alpha$', fontsize=15 )\n",
        "ax2.set_ylabel(r'$\\hat{\\alpha}$', fontsize=15)\n",
        "ax2.plot(np.linspace(lim2[0], lim2[1], 1000), np.linspace(lim2[0], lim2[1], 1000), color = \"red\", linestyle='dashed', linewidth = 2.5)\n",
        "ax2.set_axisbelow(True)\n",
        "ax2.grid(color='gray', linestyle='dashed')\n",
        "\n",
        "ax3.scatter(y_test[:,2], tmp3, marker='o', color='b', s =1)\n",
        "ax3.set_xlabel('true $\\sigma$', fontsize=15)\n",
        "ax3.set_ylabel('$\\hat{\\sigma}$', fontsize=15)\n",
        "ax3.plot(np.linspace(lim3[0], lim3[1], 1000), np.linspace(lim3[0], lim3[1], 1000), color = \"red\", linestyle='dashed', linewidth = 2.5)\n",
        "ax3.set_axisbelow(True)\n",
        "ax3.grid(color='gray', linestyle='dashed')\n",
        "\n",
        "plt.show()"
      ]
    },
    {
      "cell_type": "code",
      "execution_count": 23,
      "metadata": {
        "id": "FM-UK6yTxSjh",
        "colab": {
          "base_uri": "https://localhost:8080/",
          "height": 144
        },
        "outputId": "f80b18a5-6768-4cce-b11b-306165236253"
      },
      "outputs": [
        {
          "output_type": "display_data",
          "data": {
            "text/plain": [
              "<IPython.core.display.HTML object>"
            ],
            "text/html": [
              "\n",
              "     <input type=\"file\" id=\"files-3b711a64-7a20-432f-8dfe-a2e671377712\" name=\"files[]\" multiple disabled\n",
              "        style=\"border:none\" />\n",
              "     <output id=\"result-3b711a64-7a20-432f-8dfe-a2e671377712\">\n",
              "      Upload widget is only available when the cell has been executed in the\n",
              "      current browser session. Please rerun this cell to enable.\n",
              "      </output>\n",
              "      <script>// Copyright 2017 Google LLC\n",
              "//\n",
              "// Licensed under the Apache License, Version 2.0 (the \"License\");\n",
              "// you may not use this file except in compliance with the License.\n",
              "// You may obtain a copy of the License at\n",
              "//\n",
              "//      http://www.apache.org/licenses/LICENSE-2.0\n",
              "//\n",
              "// Unless required by applicable law or agreed to in writing, software\n",
              "// distributed under the License is distributed on an \"AS IS\" BASIS,\n",
              "// WITHOUT WARRANTIES OR CONDITIONS OF ANY KIND, either express or implied.\n",
              "// See the License for the specific language governing permissions and\n",
              "// limitations under the License.\n",
              "\n",
              "/**\n",
              " * @fileoverview Helpers for google.colab Python module.\n",
              " */\n",
              "(function(scope) {\n",
              "function span(text, styleAttributes = {}) {\n",
              "  const element = document.createElement('span');\n",
              "  element.textContent = text;\n",
              "  for (const key of Object.keys(styleAttributes)) {\n",
              "    element.style[key] = styleAttributes[key];\n",
              "  }\n",
              "  return element;\n",
              "}\n",
              "\n",
              "// Max number of bytes which will be uploaded at a time.\n",
              "const MAX_PAYLOAD_SIZE = 100 * 1024;\n",
              "\n",
              "function _uploadFiles(inputId, outputId) {\n",
              "  const steps = uploadFilesStep(inputId, outputId);\n",
              "  const outputElement = document.getElementById(outputId);\n",
              "  // Cache steps on the outputElement to make it available for the next call\n",
              "  // to uploadFilesContinue from Python.\n",
              "  outputElement.steps = steps;\n",
              "\n",
              "  return _uploadFilesContinue(outputId);\n",
              "}\n",
              "\n",
              "// This is roughly an async generator (not supported in the browser yet),\n",
              "// where there are multiple asynchronous steps and the Python side is going\n",
              "// to poll for completion of each step.\n",
              "// This uses a Promise to block the python side on completion of each step,\n",
              "// then passes the result of the previous step as the input to the next step.\n",
              "function _uploadFilesContinue(outputId) {\n",
              "  const outputElement = document.getElementById(outputId);\n",
              "  const steps = outputElement.steps;\n",
              "\n",
              "  const next = steps.next(outputElement.lastPromiseValue);\n",
              "  return Promise.resolve(next.value.promise).then((value) => {\n",
              "    // Cache the last promise value to make it available to the next\n",
              "    // step of the generator.\n",
              "    outputElement.lastPromiseValue = value;\n",
              "    return next.value.response;\n",
              "  });\n",
              "}\n",
              "\n",
              "/**\n",
              " * Generator function which is called between each async step of the upload\n",
              " * process.\n",
              " * @param {string} inputId Element ID of the input file picker element.\n",
              " * @param {string} outputId Element ID of the output display.\n",
              " * @return {!Iterable<!Object>} Iterable of next steps.\n",
              " */\n",
              "function* uploadFilesStep(inputId, outputId) {\n",
              "  const inputElement = document.getElementById(inputId);\n",
              "  inputElement.disabled = false;\n",
              "\n",
              "  const outputElement = document.getElementById(outputId);\n",
              "  outputElement.innerHTML = '';\n",
              "\n",
              "  const pickedPromise = new Promise((resolve) => {\n",
              "    inputElement.addEventListener('change', (e) => {\n",
              "      resolve(e.target.files);\n",
              "    });\n",
              "  });\n",
              "\n",
              "  const cancel = document.createElement('button');\n",
              "  inputElement.parentElement.appendChild(cancel);\n",
              "  cancel.textContent = 'Cancel upload';\n",
              "  const cancelPromise = new Promise((resolve) => {\n",
              "    cancel.onclick = () => {\n",
              "      resolve(null);\n",
              "    };\n",
              "  });\n",
              "\n",
              "  // Wait for the user to pick the files.\n",
              "  const files = yield {\n",
              "    promise: Promise.race([pickedPromise, cancelPromise]),\n",
              "    response: {\n",
              "      action: 'starting',\n",
              "    }\n",
              "  };\n",
              "\n",
              "  cancel.remove();\n",
              "\n",
              "  // Disable the input element since further picks are not allowed.\n",
              "  inputElement.disabled = true;\n",
              "\n",
              "  if (!files) {\n",
              "    return {\n",
              "      response: {\n",
              "        action: 'complete',\n",
              "      }\n",
              "    };\n",
              "  }\n",
              "\n",
              "  for (const file of files) {\n",
              "    const li = document.createElement('li');\n",
              "    li.append(span(file.name, {fontWeight: 'bold'}));\n",
              "    li.append(span(\n",
              "        `(${file.type || 'n/a'}) - ${file.size} bytes, ` +\n",
              "        `last modified: ${\n",
              "            file.lastModifiedDate ? file.lastModifiedDate.toLocaleDateString() :\n",
              "                                    'n/a'} - `));\n",
              "    const percent = span('0% done');\n",
              "    li.appendChild(percent);\n",
              "\n",
              "    outputElement.appendChild(li);\n",
              "\n",
              "    const fileDataPromise = new Promise((resolve) => {\n",
              "      const reader = new FileReader();\n",
              "      reader.onload = (e) => {\n",
              "        resolve(e.target.result);\n",
              "      };\n",
              "      reader.readAsArrayBuffer(file);\n",
              "    });\n",
              "    // Wait for the data to be ready.\n",
              "    let fileData = yield {\n",
              "      promise: fileDataPromise,\n",
              "      response: {\n",
              "        action: 'continue',\n",
              "      }\n",
              "    };\n",
              "\n",
              "    // Use a chunked sending to avoid message size limits. See b/62115660.\n",
              "    let position = 0;\n",
              "    do {\n",
              "      const length = Math.min(fileData.byteLength - position, MAX_PAYLOAD_SIZE);\n",
              "      const chunk = new Uint8Array(fileData, position, length);\n",
              "      position += length;\n",
              "\n",
              "      const base64 = btoa(String.fromCharCode.apply(null, chunk));\n",
              "      yield {\n",
              "        response: {\n",
              "          action: 'append',\n",
              "          file: file.name,\n",
              "          data: base64,\n",
              "        },\n",
              "      };\n",
              "\n",
              "      let percentDone = fileData.byteLength === 0 ?\n",
              "          100 :\n",
              "          Math.round((position / fileData.byteLength) * 100);\n",
              "      percent.textContent = `${percentDone}% done`;\n",
              "\n",
              "    } while (position < fileData.byteLength);\n",
              "  }\n",
              "\n",
              "  // All done.\n",
              "  yield {\n",
              "    response: {\n",
              "      action: 'complete',\n",
              "    }\n",
              "  };\n",
              "}\n",
              "\n",
              "scope.google = scope.google || {};\n",
              "scope.google.colab = scope.google.colab || {};\n",
              "scope.google.colab._files = {\n",
              "  _uploadFiles,\n",
              "  _uploadFilesContinue,\n",
              "};\n",
              "})(self);\n",
              "</script> "
            ]
          },
          "metadata": {}
        },
        {
          "output_type": "stream",
          "name": "stdout",
          "text": [
            "Saving sim_data_Jacobi_1000_1.csv to sim_data_Jacobi_1000_1.csv\n",
            "Saving sim_data_Jacobi_1000_2.csv to sim_data_Jacobi_1000_2.csv\n",
            "Saving sim_data_Jacobi_1000_3.csv to sim_data_Jacobi_1000_3.csv\n"
          ]
        }
      ],
      "source": [
        "import pandas as pd\n",
        "from google.colab import files\n",
        "uploaded = files.upload()"
      ]
    },
    {
      "cell_type": "code",
      "source": [
        "import io\n",
        "df1 = pd.read_csv(io.BytesIO(uploaded['sim_data_Jacobi_1000_1.csv']))\n",
        "df2 = pd.read_csv(io.BytesIO(uploaded['sim_data_Jacobi_1000_2.csv']))\n",
        "df3 = pd.read_csv(io.BytesIO(uploaded['sim_data_Jacobi_1000_3.csv']))"
      ],
      "metadata": {
        "id": "m3U7Oc-FwGEK"
      },
      "execution_count": 24,
      "outputs": []
    },
    {
      "cell_type": "code",
      "execution_count": 25,
      "metadata": {
        "id": "Cst5JGzoF-dW"
      },
      "outputs": [],
      "source": [
        "sim_data1= torch.tensor(df1.values.astype(np.float32))[:,1:(n+2)]\n",
        "sim_data2= torch.tensor(df2.values.astype(np.float32))[:,1:(n+2)]\n",
        "sim_data3= torch.tensor(df3.values.astype(np.float32))[:,1:(n+2)]\n",
        "sim_data1_mom = moment_L(sim_data1)\n",
        "sim_data2_mom = moment_L(sim_data2)\n",
        "sim_data3_mom = moment_L(sim_data3)\n",
        "sim = sim_data1.size()[0]"
      ]
    },
    {
      "cell_type": "code",
      "execution_count": 26,
      "metadata": {
        "id": "Ty3Q4ckW6_I8",
        "colab": {
          "base_uri": "https://localhost:8080/"
        },
        "outputId": "bc36f52b-5f9d-4739-d93d-3a3e8737a409"
      },
      "outputs": [
        {
          "output_type": "stream",
          "name": "stdout",
          "text": [
            "Drive already mounted at /content/gdrive1; to attempt to forcibly remount, call drive.mount(\"/content/gdrive1\", force_remount=True).\n"
          ]
        }
      ],
      "source": [
        "from google.colab import drive\n",
        "drive.mount('/content/gdrive1')\n",
        "torch.save(sim_data1,F\"/content/gdrive1/My Drive/Colab Notebooks/Jacobi_1000_1.pt\" )\n",
        "torch.save(sim_data2,F\"/content/gdrive1/My Drive/Colab Notebooks/Jacobi_1000_2.pt\" )\n",
        "torch.save(sim_data3,F\"/content/gdrive1/My Drive/Colab Notebooks/Jacobi_1000_3.pt\" )"
      ]
    },
    {
      "cell_type": "code",
      "execution_count": 17,
      "metadata": {
        "id": "KmsDys2O7CU2",
        "colab": {
          "base_uri": "https://localhost:8080/"
        },
        "outputId": "c1e11cfa-a7ab-4734-9bd1-91607b892cf8"
      },
      "outputs": [
        {
          "output_type": "stream",
          "name": "stdout",
          "text": [
            "Drive already mounted at /content/gdrive1; to attempt to forcibly remount, call drive.mount(\"/content/gdrive1\", force_remount=True).\n"
          ]
        }
      ],
      "source": [
        "drive.mount('/content/gdrive1')\n",
        "sim_data1= torch.load(F\"/content/gdrive1/My Drive/Colab Notebooks/Jacobi_1000_1.pt\" )\n",
        "sim_data2= torch.load(F\"/content/gdrive1/My Drive/Colab Notebooks/Jacobi_1000_2.pt\" )\n",
        "sim_data3= torch.load(F\"/content/gdrive1/My Drive/Colab Notebooks/Jacobi_1000_3.pt\" )\n",
        "sim_data1_mom = moment_L(sim_data1)\n",
        "sim_data2_mom = moment_L(sim_data2)\n",
        "sim_data3_mom = moment_L(sim_data3)\n",
        "sim = sim_data1.size()[0]"
      ]
    },
    {
      "cell_type": "code",
      "execution_count": 18,
      "metadata": {
        "id": "hX38170A6FEB"
      },
      "outputs": [],
      "source": [
        "param1 = torch.Tensor([3, 0.2, 0.5])\n",
        "param2 = torch.Tensor([4,0.5,0.7])\n",
        "param3 = torch.Tensor([2,0.6,0.2])"
      ]
    },
    {
      "cell_type": "code",
      "execution_count": 19,
      "metadata": {
        "id": "ERDlC9i_GJzd",
        "colab": {
          "base_uri": "https://localhost:8080/"
        },
        "outputId": "86b75ab0-294b-492d-dd98-bec193a557ab"
      },
      "outputs": [
        {
          "output_type": "stream",
          "name": "stdout",
          "text": [
            "NCoin-DP\n",
            "tensor([3.0494, 0.2076, 0.5281], grad_fn=<MeanBackward1>) tensor([0.3783, 0.0044, 0.0227], grad_fn=<StdBackward0>)\n",
            "tensor([3.8416, 0.5060, 0.6910], grad_fn=<MeanBackward1>) tensor([0.3375, 0.0112, 0.0143], grad_fn=<StdBackward0>)\n",
            "tensor([1.9792, 0.6012, 0.1918], grad_fn=<MeanBackward1>) tensor([0.1996, 0.0051, 0.0062], grad_fn=<StdBackward0>)\n",
            "NCoin-DP RMSE\n",
            "tensor(0.3829, grad_fn=<SqrtBackward0>)\n",
            "tensor(0.3731, grad_fn=<SqrtBackward0>)\n",
            "tensor(0.2008, grad_fn=<SqrtBackward0>)\n"
          ]
        }
      ],
      "source": [
        "net.eval()\n",
        "print(\"NCoin-DP\")\n",
        "print(torch.mean(net(sim_data1_mom),0),torch.std(net(sim_data1_mom),0))\n",
        "print(torch.mean(net(sim_data2_mom),0),torch.std(net(sim_data2_mom),0))\n",
        "print(torch.mean(net(sim_data3_mom),0),torch.std(net(sim_data3_mom),0)) \n",
        "\n",
        "print(\"NCoin-DP RMSE\")\n",
        "print(torch.sqrt((torch.sum(torch.square(net(sim_data1_mom)[:,0] - param1[0])) +torch.sum(torch.square(net(sim_data1_mom)[:,1] - param1[1])) +torch.sum(torch.square(net(sim_data1_mom)[:,2] - param1[2]))) /sim ) )\n",
        "print(torch.sqrt((torch.sum(torch.square(net(sim_data2_mom)[:,0] - param2[0])) +torch.sum(torch.square(net(sim_data2_mom)[:,1] - param2[1])) +torch.sum(torch.square(net(sim_data2_mom)[:,2] - param2[2])))/sim) )\n",
        "print(torch.sqrt((torch.sum(torch.square(net(sim_data3_mom)[:,0] - param3[0])) +torch.sum(torch.square(net(sim_data3_mom)[:,1] - param3[1])) +torch.sum(torch.square(net(sim_data3_mom)[:,2] - param3[2])))/sim))"
      ]
    },
    {
      "cell_type": "code",
      "execution_count": null,
      "metadata": {
        "id": "fm4uuTT78epq"
      },
      "outputs": [],
      "source": []
    }
  ],
  "metadata": {
    "accelerator": "GPU",
    "colab": {
      "provenance": [],
      "authorship_tag": "ABX9TyNjlyOtHHFau0H7LAsMB8/8",
      "include_colab_link": true
    },
    "gpuClass": "standard",
    "kernelspec": {
      "display_name": "Python 3",
      "name": "python3"
    },
    "language_info": {
      "name": "python"
    }
  },
  "nbformat": 4,
  "nbformat_minor": 0
}
