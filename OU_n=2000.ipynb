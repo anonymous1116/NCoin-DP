{
  "cells": [
    {
      "cell_type": "markdown",
      "metadata": {
        "id": "view-in-github",
        "colab_type": "text"
      },
      "source": [
        "<a href=\"https://colab.research.google.com/github/h-j-hyun/NCoin-DP/blob/main/OU_n%3D2000.ipynb\" target=\"_parent\"><img src=\"https://colab.research.google.com/assets/colab-badge.svg\" alt=\"Open In Colab\"/></a>"
      ]
    },
    {
      "cell_type": "code",
      "execution_count": 1,
      "metadata": {
        "id": "K06yEuRxKO2k"
      },
      "outputs": [],
      "source": [
        "import matplotlib.pyplot as plt\n",
        "import numpy as np\n",
        "import random\n",
        "import torch\n",
        "\n",
        "# Number of data points\n",
        "n = 2000\n",
        "\n",
        "# time inteval\n",
        "delta = 1/12\n",
        "\n",
        "# Generating x\n",
        "obtime = np.arange(0,n+1)/n * n * delta"
      ]
    },
    {
      "cell_type": "code",
      "execution_count": 2,
      "metadata": {
        "id": "rozVNpvDKQx5"
      },
      "outputs": [],
      "source": [
        "def OU_simul_sample(L_OU, time_OU, y0_OU, mu_OU, theta_OU, sigma_OU):\n",
        "    \"\"\"\n",
        "    This function generates a sample path for OU process\n",
        "    L_OU: number of simulation number\n",
        "    y0: initial value \n",
        "    t: time array including initial point \n",
        "    mu, theta, sigma are parameters of OU process dX_t = theta (mu - X_t)dt + sigma dBt\n",
        "    \"\"\"\n",
        "    z0 = y0_OU\n",
        "    path_OU = torch.zeros(L_OU, time_OU.size)\n",
        "    path_OU[:,0] = y0_OU\n",
        "    for l in range(time_OU.size-1):\n",
        "      del_L = time_OU[l+1] - time_OU[l]\n",
        "      OU_mean = z0 * torch.exp(-mu_OU * del_L) + theta_OU * (1- torch.exp(-mu_OU * del_L))\n",
        "      OU_sd = torch.sqrt( sigma_OU**2/(2*mu_OU) * (1- torch.exp(-2 * mu_OU * del_L)) )\n",
        "      z0 = torch.normal(OU_mean, OU_sd)\n",
        "      path_OU[:,l+1] = z0\n",
        "    return(path_OU)"
      ]
    },
    {
      "cell_type": "code",
      "execution_count": 3,
      "metadata": {
        "colab": {
          "base_uri": "https://localhost:8080/"
        },
        "id": "zw4tqHtU1foq",
        "outputId": "5a25c20f-3f1e-4e6b-e7f8-f4d9631e06ac"
      },
      "outputs": [
        {
          "output_type": "stream",
          "name": "stdout",
          "text": [
            "torch.Size([120000, 3])\n"
          ]
        }
      ],
      "source": [
        "L = 120000\n",
        "Lval = 20000\n",
        "Ltest = 10000\n",
        "\n",
        "p = 3\n",
        "mu_range = [1, 5]# True mu = 3\n",
        "theta_range = [1, 2.5]# True theta = 2\n",
        "sigma_range = [0.5, 2]# True sigma = 1\n",
        "\n",
        "# Training + validation + Test data generating\n",
        "torch.manual_seed(510)\n",
        "mu_ran    = torch.rand(L) * (mu_range[1] -  mu_range[0]) + mu_range[0]  \n",
        "theta_ran = torch.rand(L) * (theta_range[1] -  theta_range[0]) + theta_range[0]\n",
        "sigma_ran = torch.rand(L) * (sigma_range[1] -  sigma_range[0]) + sigma_range[0]\n",
        "\n",
        "# Output: L x 3 matrix\n",
        "output = torch.stack((mu_ran, theta_ran, sigma_ran), dim = 1)\n",
        "print(output.size())"
      ]
    },
    {
      "cell_type": "code",
      "execution_count": 4,
      "metadata": {
        "colab": {
          "base_uri": "https://localhost:8080/"
        },
        "id": "aKGwKJbLTrye",
        "outputId": "307696ac-696c-47d8-ebde-09e81430f808"
      },
      "outputs": [
        {
          "output_type": "stream",
          "name": "stdout",
          "text": [
            "torch.Size([120000, 2001])\n"
          ]
        }
      ],
      "source": [
        "# Generating the y simulated\n",
        "# It can take about a minute.\n",
        "torch.manual_seed(511)\n",
        "y0_tmp = torch.normal(theta_ran, torch.sqrt(sigma_ran**2/(2*mu_ran)))\n",
        "\n",
        "yL = OU_simul_sample(L, obtime, y0_tmp, mu_ran, theta_ran, sigma_ran)\n",
        "print(yL.size())"
      ]
    },
    {
      "cell_type": "code",
      "execution_count": 5,
      "metadata": {
        "id": "4kia1p82AqiX"
      },
      "outputs": [],
      "source": [
        "def moment_L(X):\n",
        "    \"\"\"\n",
        "    X: torch size: [L,n]\n",
        "    \"\"\"\n",
        "    L0 = X.size()[0]\n",
        "    n0 = X.size()[1]\n",
        "\n",
        "    sum1 = torch.zeros(L0) # sum x_i x_{i-1}\n",
        "    sum2 = torch.zeros(L0) # sum x_i\n",
        "    sum3 = torch.zeros(L0) # sum x_{i-1}\n",
        "    sum4 = torch.zeros(L0) # sum x_{i-1}^2\n",
        "    sum5 = torch.zeros(L0) # sum x_{i}^2\n",
        "\n",
        "    for l in range(n0-1):\n",
        "      sum1 = sum1 + X[:,l+1] * X[:,l]\n",
        "      sum2 = sum2 + X[:,l+1]\n",
        "      sum3 = sum3 + X[:,l]\n",
        "      sum4 = sum4 + torch.pow(X[:,l],2)\n",
        "      sum5 = sum5 + torch.pow(X[:,l+1],2)\n",
        "\n",
        "    return(torch.stack((sum1/n0, sum2/n0, sum3/n0, sum4/n0, sum5/n0) ,1))\n",
        "tmp = moment_L(yL)"
      ]
    },
    {
      "cell_type": "code",
      "execution_count": 6,
      "metadata": {
        "id": "PUoZvOaT4FtY"
      },
      "outputs": [],
      "source": [
        "import torch\n",
        "X = torch.clone(tmp)"
      ]
    },
    {
      "cell_type": "code",
      "execution_count": 7,
      "metadata": {
        "id": "EJLaLGnW4Iq4",
        "colab": {
          "base_uri": "https://localhost:8080/"
        },
        "outputId": "3803af30-efc4-429d-f1d7-b02e558adf43"
      },
      "outputs": [
        {
          "output_type": "stream",
          "name": "stdout",
          "text": [
            "torch.Size([90000, 5]) torch.Size([20000, 5]) torch.Size([10000, 5])\n"
          ]
        }
      ],
      "source": [
        "X_train = X[range(0,L-Lval-Ltest),:]\n",
        "y_train = output[range(0,L-Lval-Ltest),:]\n",
        "\n",
        "X_val = X[range(L-Lval-Ltest,L-Ltest),:]\n",
        "y_val = output[range(L-Lval-Ltest,L-Ltest),:]\n",
        "\n",
        "X_test = X[range(L-Ltest,L),:]\n",
        "y_test = output[range(L-Ltest,L),:]\n",
        "\n",
        "print(X_train.size(), X_val.size(),X_test.size())"
      ]
    },
    {
      "cell_type": "code",
      "execution_count": 8,
      "metadata": {
        "id": "YW_YvR5M4KMi"
      },
      "outputs": [],
      "source": [
        "import torch\n",
        "import torch.optim as optim\n",
        "from torch.optim import Adam\n",
        "from torch.utils.data import DataLoader, TensorDataset\n",
        "\n",
        "# Define the batch size\n",
        "BATCH_SIZE = 64\n",
        "\n",
        "# Use torch.utils.data to create a DataLoader \n",
        "dataset = TensorDataset(X_train, y_train)\n",
        "dataloader = DataLoader(dataset, batch_size = BATCH_SIZE, shuffle=True)"
      ]
    },
    {
      "cell_type": "code",
      "execution_count": 13,
      "metadata": {
        "id": "-kxQKKpSQTMN"
      },
      "outputs": [],
      "source": [
        "import torch.nn as nn            # for torch.nn.Module, the parent object for PyTorch models\n",
        "import torch.nn.functional as F  # for the activation function\n",
        "\n",
        "# Create the model, loss function, and optimizer\n",
        "D_in, H, H2, H3, D_out = 5, 64, 128, 64, 3\n",
        "\n",
        "# Dropout rate\n",
        "p1, p2, p3 = .2, .2, .2\n",
        "torch.manual_seed(2725)\n",
        "\n",
        "class Net(nn.Module):\n",
        "    def __init__(self):\n",
        "        super(Net, self).__init__()\n",
        "        self.fc1 = nn.Linear(D_in, H)\n",
        "        self.bn1 = nn.BatchNorm1d(num_features=H)\n",
        "        self.dn1 = nn.Dropout(p1)\n",
        "        \n",
        "        self.fc2 = nn.Linear(H, H2)\n",
        "        self.bn2 = nn.BatchNorm1d(num_features=H2)\n",
        "        self.dn1 = nn.Dropout(p2)\n",
        "        \n",
        "        self.fc3 = nn.Linear(H2, H3)\n",
        "        self.bn3 = nn.BatchNorm1d(num_features=H3)\n",
        "        self.dn1 = nn.Dropout(p3)\n",
        "        \n",
        "        self.fc4 = nn.Linear(H3, 3)\n",
        "\n",
        "    def forward(self, x):\n",
        "        x = F.relu(self.bn1(self.fc1(x)))\n",
        "        x = F.relu(self.bn2(self.fc2(x)))\n",
        "        x = F.relu(self.bn3(self.fc3(x)))\n",
        "        x = self.fc4(x)\n",
        "        return x\n",
        "\n",
        "net = Net()"
      ]
    },
    {
      "cell_type": "code",
      "execution_count": 14,
      "metadata": {
        "id": "cqOLeX1Fi_7K"
      },
      "outputs": [],
      "source": [
        "# Get the dataset size for printing (it is equal to N_SAMPLES)\n",
        "dataset_size = len(dataloader.dataset)"
      ]
    },
    {
      "cell_type": "code",
      "execution_count": 15,
      "metadata": {
        "id": "AyRwgsp049sr",
        "colab": {
          "base_uri": "https://localhost:8080/"
        },
        "outputId": "03851c1d-5411-49db-97f2-f9207f6e63e6"
      },
      "outputs": [
        {
          "output_type": "stream",
          "name": "stdout",
          "text": [
            "Drive already mounted at /content/gdrive1; to attempt to forcibly remount, call drive.mount(\"/content/gdrive1\", force_remount=True).\n"
          ]
        }
      ],
      "source": [
        "from google.colab import drive\n",
        "drive.mount('/content/gdrive1')\n",
        "model_save_name = 'OU_n2000_v17.pt'\n",
        "path = F\"/content/gdrive1/My Drive/Colab Notebooks/{model_save_name}\" "
      ]
    },
    {
      "cell_type": "code",
      "execution_count": 16,
      "metadata": {
        "id": "u7mF2AHYFL4h",
        "colab": {
          "base_uri": "https://localhost:8080/"
        },
        "outputId": "746e90d2-c949-4725-ab50-064abb8c5981"
      },
      "outputs": [
        {
          "output_type": "stream",
          "name": "stdout",
          "text": [
            "train_loss: 14.491265  [   64/90000]\n",
            "train_loss: 10.334130  [ 6464/90000]\n",
            "train_loss: 7.332479  [12864/90000]\n",
            "train_loss: 4.292686  [19264/90000]\n",
            "train_loss: 3.735448  [25664/90000]\n",
            "train_loss: 2.192167  [32064/90000]\n",
            "train_loss: 2.158191  [38464/90000]\n",
            "train_loss: 1.101041  [44864/90000]\n",
            "train_loss: 0.885841  [51264/90000]\n",
            "train_loss: 0.854462  [57664/90000]\n",
            "train_loss: 0.618393  [64064/90000]\n",
            "train_loss: 0.358989  [70464/90000]\n",
            "train_loss: 0.290298  [76864/90000]\n",
            "train_loss: 0.514042  [83264/90000]\n",
            "train_loss: 0.379407  [89664/90000]\n",
            "Epoch 1\n",
            "-------------------------------\n",
            "train_loss 0.272837 val_loss 0.308484\n",
            "0.0001\n",
            "Epoch 11\n",
            "-------------------------------\n",
            "train_loss 0.085158 val_loss 0.094978\n",
            "0.0001\n",
            "Epoch 21\n",
            "-------------------------------\n",
            "train_loss 0.075375 val_loss 0.085906\n",
            "0.0001\n",
            "Epoch 31\n",
            "-------------------------------\n",
            "train_loss 0.054047 val_loss 0.061216\n",
            "0.0001\n",
            "Epoch 41\n",
            "-------------------------------\n",
            "train_loss 0.054474 val_loss 0.061225\n",
            "0.0001\n",
            "train_loss: 0.056101  [   64/90000]\n",
            "train_loss: 0.075437  [ 6464/90000]\n",
            "train_loss: 0.065150  [12864/90000]\n",
            "train_loss: 0.061106  [19264/90000]\n",
            "train_loss: 0.088823  [25664/90000]\n",
            "train_loss: 0.088063  [32064/90000]\n",
            "train_loss: 0.079152  [38464/90000]\n",
            "train_loss: 0.087270  [44864/90000]\n",
            "train_loss: 0.056827  [51264/90000]\n",
            "train_loss: 0.081471  [57664/90000]\n",
            "train_loss: 0.094175  [64064/90000]\n",
            "train_loss: 0.058070  [70464/90000]\n",
            "train_loss: 0.061072  [76864/90000]\n",
            "train_loss: 0.049636  [83264/90000]\n",
            "train_loss: 0.131680  [89664/90000]\n",
            "Epoch 51\n",
            "-------------------------------\n",
            "train_loss 0.062005 val_loss 0.069534\n",
            "1e-05\n",
            "Epoch 61\n",
            "-------------------------------\n",
            "train_loss 0.069188 val_loss 0.078176\n",
            "1e-05\n",
            "Epoch 71\n",
            "-------------------------------\n",
            "train_loss 0.059835 val_loss 0.068477\n",
            "1e-05\n",
            "Epoch 81\n",
            "-------------------------------\n",
            "train_loss 0.056795 val_loss 0.063853\n",
            "1e-05\n",
            "Epoch 91\n",
            "-------------------------------\n",
            "train_loss 0.074324 val_loss 0.083842\n",
            "1e-05\n",
            "train_loss: 0.070424  [   64/90000]\n",
            "train_loss: 0.042634  [ 6464/90000]\n",
            "train_loss: 0.065885  [12864/90000]\n",
            "train_loss: 0.061356  [19264/90000]\n",
            "train_loss: 0.054164  [25664/90000]\n",
            "train_loss: 0.060923  [32064/90000]\n",
            "train_loss: 0.064184  [38464/90000]\n",
            "train_loss: 0.050115  [44864/90000]\n",
            "train_loss: 0.054237  [51264/90000]\n",
            "train_loss: 0.044632  [57664/90000]\n",
            "train_loss: 0.033213  [64064/90000]\n",
            "train_loss: 0.092599  [70464/90000]\n",
            "train_loss: 0.040171  [76864/90000]\n",
            "train_loss: 0.074197  [83264/90000]\n",
            "train_loss: 0.051532  [89664/90000]\n",
            "Epoch 101\n",
            "-------------------------------\n",
            "train_loss 0.061213 val_loss 0.069015\n",
            "1.0000000000000002e-06\n",
            "Epoch 111\n",
            "-------------------------------\n",
            "train_loss 0.072986 val_loss 0.082779\n",
            "1.0000000000000002e-06\n",
            "Epoch 121\n",
            "-------------------------------\n",
            "train_loss 0.053430 val_loss 0.060216\n",
            "1.0000000000000002e-06\n",
            "Epoch 131\n",
            "-------------------------------\n",
            "train_loss 0.051727 val_loss 0.058441\n",
            "1.0000000000000002e-06\n",
            "Epoch 141\n",
            "-------------------------------\n",
            "train_loss 0.051286 val_loss 0.058256\n",
            "1.0000000000000002e-06\n",
            "train_loss: 0.048996  [   64/90000]\n",
            "train_loss: 0.067089  [ 6464/90000]\n",
            "train_loss: 0.068260  [12864/90000]\n",
            "train_loss: 0.056511  [19264/90000]\n",
            "train_loss: 0.103663  [25664/90000]\n",
            "train_loss: 0.063975  [32064/90000]\n",
            "train_loss: 0.047595  [38464/90000]\n",
            "train_loss: 0.060928  [44864/90000]\n",
            "train_loss: 0.094197  [51264/90000]\n",
            "train_loss: 0.043455  [57664/90000]\n",
            "train_loss: 0.066351  [64064/90000]\n",
            "train_loss: 0.078060  [70464/90000]\n",
            "train_loss: 0.077321  [76864/90000]\n",
            "train_loss: 0.050544  [83264/90000]\n",
            "train_loss: 0.068074  [89664/90000]\n",
            "Epoch 151\n",
            "-------------------------------\n",
            "train_loss 0.050115 val_loss 0.056336\n",
            "1.0000000000000002e-07\n",
            "Epoch 161\n",
            "-------------------------------\n",
            "train_loss 0.052096 val_loss 0.059885\n",
            "1.0000000000000002e-07\n",
            "Epoch 171\n",
            "-------------------------------\n",
            "train_loss 0.076738 val_loss 0.085231\n",
            "1.0000000000000002e-07\n",
            "Epoch 181\n",
            "-------------------------------\n",
            "train_loss 0.048827 val_loss 0.055246\n",
            "1.0000000000000002e-07\n",
            "Epoch 191\n",
            "-------------------------------\n",
            "train_loss 0.051475 val_loss 0.058058\n",
            "1.0000000000000002e-07\n",
            "train_loss: 0.058988  [   64/90000]\n",
            "train_loss: 0.084544  [ 6464/90000]\n",
            "train_loss: 0.056072  [12864/90000]\n",
            "train_loss: 0.086594  [19264/90000]\n",
            "train_loss: 0.053177  [25664/90000]\n",
            "train_loss: 0.065810  [32064/90000]\n",
            "train_loss: 0.054562  [38464/90000]\n",
            "train_loss: 0.066959  [44864/90000]\n",
            "train_loss: 0.068170  [51264/90000]\n",
            "train_loss: 0.074107  [57664/90000]\n",
            "train_loss: 0.081611  [64064/90000]\n",
            "train_loss: 0.089686  [70464/90000]\n",
            "train_loss: 0.090794  [76864/90000]\n",
            "train_loss: 0.098899  [83264/90000]\n",
            "train_loss: 0.054414  [89664/90000]\n",
            "Epoch 201\n",
            "-------------------------------\n",
            "train_loss 0.057734 val_loss 0.065491\n",
            "1.0000000000000004e-08\n",
            "Epoch 211\n",
            "-------------------------------\n",
            "train_loss 0.056246 val_loss 0.063836\n",
            "1.0000000000000004e-08\n",
            "Epoch 221\n",
            "-------------------------------\n",
            "train_loss 0.062451 val_loss 0.070472\n",
            "1.0000000000000004e-08\n",
            "Epoch 231\n",
            "-------------------------------\n",
            "train_loss 0.062804 val_loss 0.072051\n",
            "1.0000000000000004e-08\n",
            "Epoch 241\n",
            "-------------------------------\n",
            "train_loss 0.061665 val_loss 0.070025\n",
            "1.0000000000000004e-08\n"
          ]
        }
      ],
      "source": [
        "# The nn package also contains definitions of popular loss functions; in this\n",
        "# case we will use Mean Squared Error (MSE) as our loss function.\n",
        "loss_fn = torch.nn.MSELoss(reduction='sum')\n",
        "learning_rate = 1e-4\n",
        "optimizer = torch.optim.Adam(net.parameters(), lr=learning_rate, weight_decay=1e-5)\n",
        "\n",
        "N_EPOCHS = 250\n",
        "train_error_plt = []\n",
        "val_error_plt = []\n",
        "\n",
        "# Loop over epochs\n",
        "for epoch in range(N_EPOCHS):\n",
        "    for id_batch, (x_batch, y_batch) in enumerate(dataloader):\n",
        "        y_batch_pred = net(x_batch)\n",
        "        loss = loss_fn(y_batch_pred, y_batch)\n",
        "      \n",
        "        optimizer.zero_grad()\n",
        "        loss.backward()\n",
        "        optimizer.step()\n",
        "\n",
        "        if epoch % 50 ==0 and id_batch % 100 == 0:\n",
        "            loss, current = loss.item(), (id_batch + 1)* len(x_batch)\n",
        "            print(f\"train_loss: {loss/BATCH_SIZE:>7f}  [{current:>5d}/{dataset_size:>5d}]\")\n",
        "    \n",
        "    with torch.no_grad():\n",
        "           net.eval()\n",
        "           theta_pred_train = net(X_train)\n",
        "           train_loss = loss_fn(theta_pred_train,y_train) / (L-Lval)\n",
        "           train_error_plt = np.append(train_error_plt, train_loss)\n",
        "           \n",
        "           theta_pred_val = net(X_val)\n",
        "           val_loss = loss_fn(y_val, theta_pred_val) / (Lval)\n",
        "           val_error_plt = np.append(val_error_plt, val_loss)\n",
        "           \n",
        "    if epoch % 10 ==0:\n",
        "        print(f\"Epoch {epoch + 1}\\n-------------------------------\")\n",
        "        print(f\"train_loss {train_loss:>7f} val_loss {val_loss:>7f}\")\n",
        "        print(learning_rate)\n",
        "            \n",
        "    # Choose Best Model\n",
        "    if val_error_plt[epoch] == np.min(val_error_plt):\n",
        "         best=epoch\n",
        "         torch.save(net.state_dict(), path)\n",
        "\n",
        "    if epoch % 50 ==49:\n",
        "        net.load_state_dict(torch.load(path))\n",
        "        learning_rate = max(learning_rate * 1e-1, 1e-9)"
      ]
    },
    {
      "cell_type": "code",
      "execution_count": 17,
      "metadata": {
        "id": "F31haF2WsOjr",
        "colab": {
          "base_uri": "https://localhost:8080/",
          "height": 319
        },
        "outputId": "5258c413-b3dd-4076-ce9a-a1c8b1166328"
      },
      "outputs": [
        {
          "output_type": "stream",
          "name": "stdout",
          "text": [
            "0.05186642333865166\n",
            "242\n"
          ]
        },
        {
          "output_type": "execute_result",
          "data": {
            "text/plain": [
              "<matplotlib.legend.Legend at 0x7f47e4541be0>"
            ]
          },
          "metadata": {},
          "execution_count": 17
        },
        {
          "output_type": "display_data",
          "data": {
            "text/plain": [
              "<Figure size 432x288 with 1 Axes>"
            ],
            "image/png": "[encoded data removed]"
          },
          "metadata": {
            "needs_background": "light"
          }
        }
      ],
      "source": [
        "net.load_state_dict(torch.load(path))\n",
        "print(np.min(val_error_plt))\n",
        "print(np.argmin(val_error_plt))\n",
        "plt.plot(np.arange(N_EPOCHS), train_error_plt, color = \"r\")\n",
        "plt.plot(np.arange(N_EPOCHS), val_error_plt)\n",
        "plt.legend([\"train\", \"validation\"], loc =\"upper right\")"
      ]
    },
    {
      "cell_type": "markdown",
      "source": [
        "**Learning Checking procedure**"
      ],
      "metadata": {
        "id": "Gn_D_aLDJXSR"
      }
    },
    {
      "cell_type": "code",
      "source": [
        "with torch.no_grad():\n",
        "  net.eval()\n",
        "  tmp1 = net(X_test)[:,0]\n",
        "  tmp2 = net(X_test)[:,1]\n",
        "  tmp3 = net(X_test)[:,2]\n",
        "\n",
        "  tmp1 = tmp1.detach().cpu().numpy().tolist()\n",
        "  tmp2 = tmp2.detach().cpu().numpy().tolist()\n",
        "  tmp3 = tmp3.detach().cpu().numpy().tolist()\n",
        "\n",
        "# Plot for model checking\n",
        "lim1 = [mu_range[0] * 0.8, mu_range[1] * 1.1]\n",
        "lim2 = [theta_range[0] * 0.8, theta_range[1] * 1.1]\n",
        "lim3 = [sigma_range[0] * 0.8, sigma_range[1] * 1.1]\n",
        "\n",
        "fig, (ax1, ax2, ax3) = plt.subplots(1, 3, figsize=(18,5))\n",
        "fig.suptitle('Learning Checking')\n",
        "\n",
        "ax1.scatter(y_test[:,0], tmp1, marker='o', color='b', s = 1)\n",
        "ax1.set_xlabel('true $\\kappa$', fontsize=15)\n",
        "ax1.set_ylabel('$\\hat{\\kappa}$', fontsize=15)\n",
        "ax1.plot(np.linspace(lim1[0], lim1[1], 1000), np.linspace(lim1[0], lim1[1], 1000), color = \"red\", linestyle='dashed', linewidth = 2.5)\n",
        "ax1.set_axisbelow(True)\n",
        "ax1.grid(color='gray', linestyle='dashed')\n",
        "\n",
        "ax2.scatter(y_test[:,1], tmp2, marker='o', color='b', s = 1)\n",
        "ax2.set_xlabel(r'true $\\alpha$', fontsize=15 )\n",
        "ax2.set_ylabel(r'$\\hat{\\alpha}$', fontsize=15)\n",
        "ax2.plot(np.linspace(lim2[0], lim2[1], 1000), np.linspace(lim2[0], lim2[1], 1000), color = \"red\", linestyle='dashed', linewidth = 2.5)\n",
        "ax2.set_axisbelow(True)\n",
        "ax2.grid(color='gray', linestyle='dashed')\n",
        "\n",
        "ax3.scatter(y_test[:,2], tmp3, marker='o', color='b', s = 1)\n",
        "ax3.set_xlabel('true $\\sigma$', fontsize=15)\n",
        "ax3.set_ylabel('$\\hat{\\sigma}$', fontsize=15)\n",
        "ax3.plot(np.linspace(lim3[0], lim3[1], 1000), np.linspace(lim3[0], lim3[1], 1000), color = \"red\", linestyle='dashed', linewidth = 2.5)\n",
        "ax3.set_axisbelow(True)\n",
        "ax3.grid(color='gray', linestyle='dashed')\n",
        "\n",
        "plt.show()"
      ],
      "metadata": {
        "colab": {
          "base_uri": "https://localhost:8080/",
          "height": 376
        },
        "id": "1ONg3zpTJWcq",
        "outputId": "afdaa925-e13b-4b55-ea56-b4d5002f7e6e"
      },
      "execution_count": 24,
      "outputs": [
        {
          "output_type": "display_data",
          "data": {
            "text/plain": [
              "<Figure size 1296x360 with 3 Axes>"
            ],
            "image/png": "[encoded data removed]"
          },
          "metadata": {
            "needs_background": "light"
          }
        }
      ]
    },
    {
      "cell_type": "code",
      "execution_count": 25,
      "metadata": {
        "id": "oDfVFvuM934k",
        "colab": {
          "base_uri": "https://localhost:8080/",
          "height": 144
        },
        "outputId": "a6bc2806-3a7b-4da8-aa76-09aaca10134b"
      },
      "outputs": [
        {
          "output_type": "display_data",
          "data": {
            "text/plain": [
              "<IPython.core.display.HTML object>"
            ],
            "text/html": [
              "\n",
              "     <input type=\"file\" id=\"files-64e782a6-f0f3-449c-a228-92554d3517d2\" name=\"files[]\" multiple disabled\n",
              "        style=\"border:none\" />\n",
              "     <output id=\"result-64e782a6-f0f3-449c-a228-92554d3517d2\">\n",
              "      Upload widget is only available when the cell has been executed in the\n",
              "      current browser session. Please rerun this cell to enable.\n",
              "      </output>\n",
              "      <script>// Copyright 2017 Google LLC\n",
              "//\n",
              "// Licensed under the Apache License, Version 2.0 (the \"License\");\n",
              "// you may not use this file except in compliance with the License.\n",
              "// You may obtain a copy of the License at\n",
              "//\n",
              "//      http://www.apache.org/licenses/LICENSE-2.0\n",
              "//\n",
              "// Unless required by applicable law or agreed to in writing, software\n",
              "// distributed under the License is distributed on an \"AS IS\" BASIS,\n",
              "// WITHOUT WARRANTIES OR CONDITIONS OF ANY KIND, either express or implied.\n",
              "// See the License for the specific language governing permissions and\n",
              "// limitations under the License.\n",
              "\n",
              "/**\n",
              " * @fileoverview Helpers for google.colab Python module.\n",
              " */\n",
              "(function(scope) {\n",
              "function span(text, styleAttributes = {}) {\n",
              "  const element = document.createElement('span');\n",
              "  element.textContent = text;\n",
              "  for (const key of Object.keys(styleAttributes)) {\n",
              "    element.style[key] = styleAttributes[key];\n",
              "  }\n",
              "  return element;\n",
              "}\n",
              "\n",
              "// Max number of bytes which will be uploaded at a time.\n",
              "const MAX_PAYLOAD_SIZE = 100 * 1024;\n",
              "\n",
              "function _uploadFiles(inputId, outputId) {\n",
              "  const steps = uploadFilesStep(inputId, outputId);\n",
              "  const outputElement = document.getElementById(outputId);\n",
              "  // Cache steps on the outputElement to make it available for the next call\n",
              "  // to uploadFilesContinue from Python.\n",
              "  outputElement.steps = steps;\n",
              "\n",
              "  return _uploadFilesContinue(outputId);\n",
              "}\n",
              "\n",
              "// This is roughly an async generator (not supported in the browser yet),\n",
              "// where there are multiple asynchronous steps and the Python side is going\n",
              "// to poll for completion of each step.\n",
              "// This uses a Promise to block the python side on completion of each step,\n",
              "// then passes the result of the previous step as the input to the next step.\n",
              "function _uploadFilesContinue(outputId) {\n",
              "  const outputElement = document.getElementById(outputId);\n",
              "  const steps = outputElement.steps;\n",
              "\n",
              "  const next = steps.next(outputElement.lastPromiseValue);\n",
              "  return Promise.resolve(next.value.promise).then((value) => {\n",
              "    // Cache the last promise value to make it available to the next\n",
              "    // step of the generator.\n",
              "    outputElement.lastPromiseValue = value;\n",
              "    return next.value.response;\n",
              "  });\n",
              "}\n",
              "\n",
              "/**\n",
              " * Generator function which is called between each async step of the upload\n",
              " * process.\n",
              " * @param {string} inputId Element ID of the input file picker element.\n",
              " * @param {string} outputId Element ID of the output display.\n",
              " * @return {!Iterable<!Object>} Iterable of next steps.\n",
              " */\n",
              "function* uploadFilesStep(inputId, outputId) {\n",
              "  const inputElement = document.getElementById(inputId);\n",
              "  inputElement.disabled = false;\n",
              "\n",
              "  const outputElement = document.getElementById(outputId);\n",
              "  outputElement.innerHTML = '';\n",
              "\n",
              "  const pickedPromise = new Promise((resolve) => {\n",
              "    inputElement.addEventListener('change', (e) => {\n",
              "      resolve(e.target.files);\n",
              "    });\n",
              "  });\n",
              "\n",
              "  const cancel = document.createElement('button');\n",
              "  inputElement.parentElement.appendChild(cancel);\n",
              "  cancel.textContent = 'Cancel upload';\n",
              "  const cancelPromise = new Promise((resolve) => {\n",
              "    cancel.onclick = () => {\n",
              "      resolve(null);\n",
              "    };\n",
              "  });\n",
              "\n",
              "  // Wait for the user to pick the files.\n",
              "  const files = yield {\n",
              "    promise: Promise.race([pickedPromise, cancelPromise]),\n",
              "    response: {\n",
              "      action: 'starting',\n",
              "    }\n",
              "  };\n",
              "\n",
              "  cancel.remove();\n",
              "\n",
              "  // Disable the input element since further picks are not allowed.\n",
              "  inputElement.disabled = true;\n",
              "\n",
              "  if (!files) {\n",
              "    return {\n",
              "      response: {\n",
              "        action: 'complete',\n",
              "      }\n",
              "    };\n",
              "  }\n",
              "\n",
              "  for (const file of files) {\n",
              "    const li = document.createElement('li');\n",
              "    li.append(span(file.name, {fontWeight: 'bold'}));\n",
              "    li.append(span(\n",
              "        `(${file.type || 'n/a'}) - ${file.size} bytes, ` +\n",
              "        `last modified: ${\n",
              "            file.lastModifiedDate ? file.lastModifiedDate.toLocaleDateString() :\n",
              "                                    'n/a'} - `));\n",
              "    const percent = span('0% done');\n",
              "    li.appendChild(percent);\n",
              "\n",
              "    outputElement.appendChild(li);\n",
              "\n",
              "    const fileDataPromise = new Promise((resolve) => {\n",
              "      const reader = new FileReader();\n",
              "      reader.onload = (e) => {\n",
              "        resolve(e.target.result);\n",
              "      };\n",
              "      reader.readAsArrayBuffer(file);\n",
              "    });\n",
              "    // Wait for the data to be ready.\n",
              "    let fileData = yield {\n",
              "      promise: fileDataPromise,\n",
              "      response: {\n",
              "        action: 'continue',\n",
              "      }\n",
              "    };\n",
              "\n",
              "    // Use a chunked sending to avoid message size limits. See b/62115660.\n",
              "    let position = 0;\n",
              "    do {\n",
              "      const length = Math.min(fileData.byteLength - position, MAX_PAYLOAD_SIZE);\n",
              "      const chunk = new Uint8Array(fileData, position, length);\n",
              "      position += length;\n",
              "\n",
              "      const base64 = btoa(String.fromCharCode.apply(null, chunk));\n",
              "      yield {\n",
              "        response: {\n",
              "          action: 'append',\n",
              "          file: file.name,\n",
              "          data: base64,\n",
              "        },\n",
              "      };\n",
              "\n",
              "      let percentDone = fileData.byteLength === 0 ?\n",
              "          100 :\n",
              "          Math.round((position / fileData.byteLength) * 100);\n",
              "      percent.textContent = `${percentDone}% done`;\n",
              "\n",
              "    } while (position < fileData.byteLength);\n",
              "  }\n",
              "\n",
              "  // All done.\n",
              "  yield {\n",
              "    response: {\n",
              "      action: 'complete',\n",
              "    }\n",
              "  };\n",
              "}\n",
              "\n",
              "scope.google = scope.google || {};\n",
              "scope.google.colab = scope.google.colab || {};\n",
              "scope.google.colab._files = {\n",
              "  _uploadFiles,\n",
              "  _uploadFilesContinue,\n",
              "};\n",
              "})(self);\n",
              "</script> "
            ]
          },
          "metadata": {}
        },
        {
          "output_type": "stream",
          "name": "stdout",
          "text": [
            "Saving sim_data_2000_1.csv to sim_data_2000_1.csv\n",
            "Saving sim_data_2000_2.csv to sim_data_2000_2.csv\n",
            "Saving sim_data_2000_3.csv to sim_data_2000_3.csv\n"
          ]
        }
      ],
      "source": [
        "import pandas as pd\n",
        "from google.colab import files\n",
        "uploaded = files.upload()"
      ]
    },
    {
      "cell_type": "code",
      "execution_count": 26,
      "metadata": {
        "id": "vMzCDCER_Rkx"
      },
      "outputs": [],
      "source": [
        "import io\n",
        "df1 = pd.read_csv(io.BytesIO(uploaded['sim_data_2000_1.csv']))\n",
        "df2 = pd.read_csv(io.BytesIO(uploaded['sim_data_2000_2.csv']))\n",
        "df3 = pd.read_csv(io.BytesIO(uploaded['sim_data_2000_3.csv']))"
      ]
    },
    {
      "cell_type": "code",
      "execution_count": 27,
      "metadata": {
        "id": "qkpqh50v_Uiu"
      },
      "outputs": [],
      "source": [
        "sim_data1= torch.tensor(df1.values.astype(np.float32))[:,1:(n+2)]\n",
        "sim_data2= torch.tensor(df2.values.astype(np.float32))[:,1:(n+2)]\n",
        "sim_data3= torch.tensor(df3.values.astype(np.float32))[:,1:(n+2)]\n",
        "sim_data1_mom = moment_L(sim_data1)\n",
        "sim_data2_mom = moment_L(sim_data2)\n",
        "sim_data3_mom = moment_L(sim_data3)\n"
      ]
    },
    {
      "cell_type": "code",
      "execution_count": 28,
      "metadata": {
        "id": "iT4uOrcNf_rp"
      },
      "outputs": [],
      "source": [
        "# Generate the simulation data to get the mean and standard deviation of estimated parameter\n",
        "sim = sim_data1.size()[0]\n",
        "\n",
        "param1 = torch.Tensor([3, 2, 1])\n",
        "param2 = torch.Tensor([4,1.5,1.5])\n",
        "param3 = torch.Tensor([2,1.1,1.9])\n",
        "\n",
        "sim_data1_mom = moment_L(sim_data1)\n",
        "sim_data2_mom = moment_L(sim_data2)\n",
        "sim_data3_mom = moment_L(sim_data3)"
      ]
    },
    {
      "cell_type": "code",
      "source": [
        "# Function for MLE of OU process\n",
        "def MLE_OU(sim_OU, obtime_OU, delta_OU):\n",
        "  \"\"\"\n",
        "  sim_OU size : sim * n_OU\n",
        "  \"\"\"\n",
        "  sim_num = sim_OU.size()[0]\n",
        "  n_OU = len(obtime_OU)\n",
        "  n0_OU = n_OU -1\n",
        "  vec_xi = sim_OU[:, 1:]\n",
        "  vec_xim1 = sim_OU[:, :n0_OU]\n",
        "  beta1 = (torch.sum(vec_xi * vec_xim1,1) - 1/n0_OU * torch.sum(vec_xi, 1) * torch.sum(vec_xim1, 1) ) / (torch.sum(vec_xim1 ** 2, 1) - 1/n0_OU * (torch.sum(vec_xim1, 1))**2   ) # size : sim\n",
        "  beta2 = 1/n0_OU * (  torch.sum(vec_xi,1) - beta1 * torch.sum(vec_xim1,1) ) / (torch.ones(sim_num)-beta1) # size: sim\n",
        "  tmp1 =torch.transpose(torch.kron(beta1, torch.ones(n0_OU,1)),0,1 )\n",
        "  tmp2 =torch.transpose(torch.kron(beta2 * (torch.ones(sim_num)-beta1), torch.ones(n0_OU,1)),0,1 )\n",
        "  tmp_beta3 = (vec_xi - tmp1 * vec_xim1 - tmp2) # size: \n",
        "  beta3 = 1/n0_OU * torch.sum(tmp_beta3**2, 1)\n",
        "  mu = -torch.ones(sim_num) * torch.log(beta1) / delta_OU\n",
        "  alpha = beta2\n",
        "  sigma = torch.sqrt(2 * mu * beta3 / (torch.ones(sim_num) - beta1 ** 2 )) \n",
        "  return(torch.stack((mu, alpha,sigma), 1))\n",
        "\n",
        "results1_MLE = MLE_OU(sim_data1, obtime, delta)\n",
        "results2_MLE = MLE_OU(sim_data2, obtime, delta)\n",
        "results3_MLE = MLE_OU(sim_data3, obtime, delta)"
      ],
      "metadata": {
        "id": "-Bpebt8G-kwV"
      },
      "execution_count": 33,
      "outputs": []
    },
    {
      "cell_type": "code",
      "source": [
        "net.eval()\n",
        "print(\"NCoin-DP\")\n",
        "print(torch.mean(net(sim_data1_mom),0),torch.std(net(sim_data1_mom),0)) # (3,2,1)\n",
        "print(torch.mean(net(sim_data2_mom),0),torch.std(net(sim_data2_mom),0)) # (4, 1.5, 1.5)\n",
        "print(torch.mean(net(sim_data3_mom),0),torch.std(net(sim_data3_mom),0)) # (2, 1.1, 1.9)\n",
        "\n",
        "print(\"MLE\")\n",
        "print(torch.mean(results1_MLE,0),torch.std(results1_MLE,0) )\n",
        "print(torch.mean(results2_MLE,0),torch.std(results2_MLE,0) )\n",
        "print(torch.mean(results3_MLE,0),torch.std(results3_MLE,0) )"
      ],
      "metadata": {
        "colab": {
          "base_uri": "https://localhost:8080/"
        },
        "id": "jFCdKYZZAAdi",
        "outputId": "a3e2b72a-9a90-4fb6-c199-98019c987566"
      },
      "execution_count": 34,
      "outputs": [
        {
          "output_type": "stream",
          "name": "stdout",
          "text": [
            "NCoin-DP\n",
            "tensor([2.9686, 1.9931, 0.9723], grad_fn=<MeanBackward1>) tensor([0.2121, 0.0276, 0.0193], grad_fn=<StdBackward0>)\n",
            "tensor([4.0074, 1.4960, 1.4857], grad_fn=<MeanBackward1>) tensor([0.2652, 0.0329, 0.0269], grad_fn=<StdBackward0>)\n",
            "tensor([1.9900, 1.1216, 1.8768], grad_fn=<MeanBackward1>) tensor([0.1645, 0.0469, 0.0327], grad_fn=<StdBackward0>)\n",
            "MLE\n",
            "tensor([3.0539, 1.9990, 1.0012]) tensor([0.2168, 0.0260, 0.0173])\n",
            "tensor([4.0176, 1.5001, 1.5006]) tensor([0.2807, 0.0290, 0.0283])\n",
            "tensor([2.0226, 1.0995, 1.9015]) tensor([0.1785, 0.0729, 0.0320])\n"
          ]
        }
      ]
    },
    {
      "cell_type": "markdown",
      "source": [
        "**Results when $n=2000$**"
      ],
      "metadata": {
        "id": "QaWCs3ilVZKe"
      }
    },
    {
      "cell_type": "code",
      "source": [
        "print(\"NCoin-DP RMSE\")\n",
        "print(torch.sqrt((torch.sum(torch.square(net(sim_data1_mom)[:,0] - param1[0])) +torch.sum(torch.square(net(sim_data1_mom)[:,1] - param1[1])) +torch.sum(torch.square(net(sim_data1_mom)[:,2] - param1[2]))) /sim ) )\n",
        "print(torch.sqrt((torch.sum(torch.square(net(sim_data2_mom)[:,0] - param2[0])) +torch.sum(torch.square(net(sim_data2_mom)[:,1] - param2[1])) +torch.sum(torch.square(net(sim_data2_mom)[:,2] - param2[2])))/sim) )\n",
        "print(torch.sqrt((torch.sum(torch.square(net(sim_data3_mom)[:,0] - param3[0])) +torch.sum(torch.square(net(sim_data3_mom)[:,1] - param3[1])) +torch.sum(torch.square(net(sim_data3_mom)[:,2] - param3[2])))/sim))\n",
        "\n",
        "print(\"MLE RMSE\")\n",
        "print(torch.sqrt((torch.sum(torch.square(results1_MLE[:,0] - param1[0])) +torch.sum(torch.square(results1_MLE[:,1] - param1[1])) +torch.sum(torch.square(results1_MLE[:,2] -param1[2]))) /sim ) )\n",
        "print(torch.sqrt((torch.sum(torch.square(results2_MLE[:,0] - param2[0])) +torch.sum(torch.square(results2_MLE[:,1] - param2[1])) +torch.sum(torch.square(results2_MLE[:,2] -param2[2]))) /sim ) )\n",
        "print(torch.sqrt((torch.sum(torch.square(results3_MLE[:,0] - param3[0])) +torch.sum(torch.square(results3_MLE[:,1] - param3[1])) +torch.sum(torch.square(results3_MLE[:,2] -param3[2]))) /sim ) )\n"
      ],
      "metadata": {
        "colab": {
          "base_uri": "https://localhost:8080/"
        },
        "id": "7ks9otcrLH_0",
        "outputId": "99faf658-9428-427c-fdc6-0ff6c6777ef5"
      },
      "execution_count": 35,
      "outputs": [
        {
          "output_type": "stream",
          "name": "stdout",
          "text": [
            "NCoin-DP RMSE\n",
            "tensor(0.2187, grad_fn=<SqrtBackward0>)\n",
            "tensor(0.2689, grad_fn=<SqrtBackward0>)\n",
            "tensor(0.1771, grad_fn=<SqrtBackward0>)\n",
            "MLE RMSE\n",
            "tensor(0.2254)\n",
            "tensor(0.2839)\n",
            "tensor(0.1966)\n"
          ]
        }
      ]
    },
    {
      "cell_type": "code",
      "source": [],
      "metadata": {
        "id": "MXprmXiQLO57"
      },
      "execution_count": null,
      "outputs": []
    }
  ],
  "metadata": {
    "accelerator": "GPU",
    "colab": {
      "machine_shape": "hm",
      "provenance": [],
      "authorship_tag": "ABX9TyOkBKt8i//dN34KNvNnCbld",
      "include_colab_link": true
    },
    "gpuClass": "standard",
    "kernelspec": {
      "display_name": "Python 3",
      "name": "python3"
    },
    "language_info": {
      "name": "python"
    }
  },
  "nbformat": 4,
  "nbformat_minor": 0
}