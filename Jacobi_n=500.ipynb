{
  "cells": [
    {
      "cell_type": "markdown",
      "metadata": {
        "id": "view-in-github",
        "colab_type": "text"
      },
      "source": [
        "<a href=\"https://colab.research.google.com/github/h-j-hyun/NCoin-DP/blob/main/Jacobi_n%3D500.ipynb\" target=\"_parent\"><img src=\"https://colab.research.google.com/assets/colab-badge.svg\" alt=\"Open In Colab\"/></a>"
      ]
    },
    {
      "cell_type": "code",
      "execution_count": 1,
      "metadata": {
        "id": "XOZTM9OF357o"
      },
      "outputs": [],
      "source": [
        "import matplotlib.pyplot as plt\n",
        "import numpy as np\n",
        "import torch\n",
        "\n",
        "# Number of data points\n",
        "n = 500\n",
        "\n",
        "#Initial value \n",
        "y0 = 0.1\n",
        "\n",
        "# time inteval\n",
        "delta = 1/12\n",
        "\n",
        "# Generating x\n",
        "obtime = np.arange(0,n+1)/n * n * delta"
      ]
    },
    {
      "cell_type": "code",
      "execution_count": 2,
      "metadata": {
        "id": "pZvuSJFVd3II"
      },
      "outputs": [],
      "source": [
        "def Jacobi_sample(del_Jacobi, m_Jacobi, y0_Jacobi, a_Jacobi, b_Jacobi, sigma_Jacobi):\n",
        "    \"\"\"\n",
        "    This function generates a one sample path between an interval for Jacobi process\n",
        "    y0_Jacobi: initial value\n",
        "    m : num of slice of each interval\n",
        "    t_Jacobi: time array including initial point\n",
        "    a, b, sigma are parameters of Jacobi process dX_t = a (b - X_t)dt + \\sigma sqrt{X_t (1- X_t)} dBt\n",
        "    \"\"\"\n",
        "    L_tmp = a_Jacobi.size()[0]\n",
        "    del_tmp = del_Jacobi / m_Jacobi\n",
        "    z0 = y0_Jacobi\n",
        "    for j in range(m_Jacobi):\n",
        "        ran_num = torch.normal(0 * torch.ones(L_tmp),1 * torch.ones(L_tmp))\n",
        "        z0 = z0 + a_Jacobi*(b_Jacobi-z0)*del_tmp + sigma_Jacobi*torch.mul(torch.sqrt(z0),torch.sqrt(torch.ones(L_tmp)-z0))*((del_tmp)**(1/2))*ran_num + (torch.pow(sigma_Jacobi,2) )/4*(torch.ones(L_tmp)-2*z0)*(del_tmp*(torch.pow(ran_num,2)-1)) # Milstein approximation\n",
        "        z0 = torch.max(z0,0 * torch.ones(L_tmp))\n",
        "        z0 = torch.min(z0,1 * torch.ones(L_tmp))\n",
        "    return(z0)"
      ]
    },
    {
      "cell_type": "code",
      "execution_count": 3,
      "metadata": {
        "id": "IzoP7iT7wstL"
      },
      "outputs": [],
      "source": [
        "def Jacobi_multisample(L_Jacobi, time_Jacobi, m_Jacobi, y0_Jacobi, a_Jacobi, b_Jacobi, sigma_Jacobi):\n",
        "    \"\"\"\n",
        "    This function generates a sample path for Jacobi process\n",
        "    L_Jacobi: number of simulation number\n",
        "    y0_Jacobi: initial value\n",
        "    m : num of slice of each interval\n",
        "    t_Jacobi: time array including initial point\n",
        "    a, b, sigma are parameters of Jacobi process dX_t = a (b - X_t)dt + \\sigma sqrt{X_t (1- X_t)} dBt\n",
        "    \"\"\"\n",
        "    tmp = y0_Jacobi\n",
        "    path_Jacobi = torch.zeros(L_Jacobi, time_Jacobi.size)\n",
        "    path_Jacobi[:,0] = y0_Jacobi\n",
        "    for l in range(time_Jacobi.size-1):\n",
        "      del_L = time_Jacobi[l+1] - time_Jacobi[l]\n",
        "      new_path = Jacobi_sample(del_L, m_Jacobi, tmp, a_Jacobi, b_Jacobi, sigma_Jacobi) \n",
        "      path_Jacobi[:,l+1] = new_path\n",
        "      tmp = torch.clone(new_path)\n",
        "    return(path_Jacobi)"
      ]
    },
    {
      "cell_type": "code",
      "execution_count": 4,
      "metadata": {
        "colab": {
          "base_uri": "https://localhost:8080/"
        },
        "id": "zw4tqHtU1foq",
        "outputId": "e5cb6100-7f71-4e7f-aa05-de32860fd525"
      },
      "outputs": [
        {
          "output_type": "stream",
          "name": "stdout",
          "text": [
            "torch.Size([100000, 3])\n"
          ]
        }
      ],
      "source": [
        "L = 100000\n",
        "Lval = 20000\n",
        "Ltest = 10000\n",
        "p = 3\n",
        "\n",
        "# Uniform range of parameters\n",
        "a_range = [1, 5]# True a = 3\n",
        "b_range = [0.2, 0.7]# True b = 0.5\n",
        "sigma_range = [0.1, 0.7]# True sigma = 0.5\n",
        "\n",
        "# Training + Test data generating\n",
        "# Randomly generating from uniform distribution\n",
        "torch.manual_seed(510)\n",
        "a_ran     = torch.rand(L) * (a_range[1]     -  a_range[0]) + a_range[0]  \n",
        "b_ran     = torch.rand(L) * (b_range[1]     -  b_range[0]) + b_range[0]\n",
        "sigma_ran = torch.rand(L) * (sigma_range[1] -  sigma_range[0]) + sigma_range[0]\n",
        "\n",
        "# Output: L x 3 matrix\n",
        "output = torch.stack((a_ran, b_ran, sigma_ran), dim = 1)\n",
        "print(output.size())"
      ]
    },
    {
      "cell_type": "code",
      "execution_count": 5,
      "metadata": {
        "colab": {
          "base_uri": "https://localhost:8080/"
        },
        "id": "aKGwKJbLTrye",
        "outputId": "1c015b25-29ca-4443-b550-65e8f57bc8f5"
      },
      "outputs": [
        {
          "output_type": "stream",
          "name": "stdout",
          "text": [
            "torch.Size([100000, 501])\n"
          ]
        }
      ],
      "source": [
        "# Generating the y simulated\n",
        "# It can take about a minute.\n",
        "a_L = output[:,0]\n",
        "b_L = output[:,1]\n",
        "sigma_L = output[:,2]\n",
        "\n",
        "y0_tmp = y0 * torch.ones(L)\n",
        "\n",
        "yL = Jacobi_multisample(L, obtime, 20, y0_tmp, a_L, b_L, sigma_L)\n",
        "print(yL.size())"
      ]
    },
    {
      "cell_type": "code",
      "execution_count": 6,
      "metadata": {
        "id": "liwAJA0GMNT9"
      },
      "outputs": [],
      "source": [
        "def moment_L(X):\n",
        "    \"\"\"\n",
        "    X: torch size: [L,n]\n",
        "    \"\"\"\n",
        "    L0 = X.size()[0]\n",
        "    n0 = X.size()[1]\n",
        "\n",
        "    sum1 = torch.zeros(L0) # sum x_i x_{i-1}\n",
        "    sum2 = torch.zeros(L0) # sum x_i\n",
        "    sum3 = torch.zeros(L0) # sum x_{i-1}\n",
        "    sum4 = torch.zeros(L0) # sum x_{i-1}^2\n",
        "    sum5 = torch.zeros(L0) # sum x_{i}^2\n",
        "    sum6 = torch.zeros(L0) # sum x_{i-1}^2 * sum x_i\n",
        "    sum7 = torch.zeros(L0) # sum x_{i-1}^3 * sum x_i\n",
        "\n",
        "    for l in range(n0-1):\n",
        "      sum1 = sum1 + X[:,l+1] * X[:,l]\n",
        "      sum2 = sum2 + X[:,l+1]\n",
        "      sum3 = sum3 + X[:,l]\n",
        "      \n",
        "      sum4 = sum4 + torch.pow(X[:,l],2)\n",
        "      sum5 = sum5 + torch.pow(X[:,l+1],2)\n",
        "      sum6 = sum6 + torch.pow(X[:,l],2) * X[:,l+1]\n",
        "      sum7 = sum7 + torch.pow(X[:,l],3) * X[:,l+1]\n",
        "\n",
        "    return(torch.stack((sum1/n0, sum2/n0, sum3/n0, sum4/n0, sum5/n0, sum6/n0, sum7/n0) ,1))\n",
        "X = moment_L(yL)"
      ]
    },
    {
      "cell_type": "code",
      "execution_count": 7,
      "metadata": {
        "colab": {
          "base_uri": "https://localhost:8080/"
        },
        "id": "EJLaLGnW4Iq4",
        "outputId": "2effcbf9-2e15-47e6-9454-af94fa76228a"
      },
      "outputs": [
        {
          "output_type": "stream",
          "name": "stdout",
          "text": [
            "torch.Size([70000, 7]) torch.Size([20000, 7]) torch.Size([10000, 7])\n"
          ]
        }
      ],
      "source": [
        "X_train = X[range(0,L-Lval-Ltest),:]\n",
        "y_train = output[range(0,L-Lval-Ltest),:]\n",
        "\n",
        "X_val = X[range(L-Lval-Ltest,L-Ltest),:]\n",
        "y_val = output[range(L-Lval-Ltest,L-Ltest),:]\n",
        "\n",
        "X_test = X[range(L-Ltest,L),:]\n",
        "y_test = output[range(L-Ltest,L),:]\n",
        "\n",
        "\n",
        "print(X_train.size(), X_val.size(),X_test.size())"
      ]
    },
    {
      "cell_type": "code",
      "execution_count": 8,
      "metadata": {
        "id": "YW_YvR5M4KMi"
      },
      "outputs": [],
      "source": [
        "import torch\n",
        "import torch.optim as optim\n",
        "from torch.optim import Adam\n",
        "from torch.utils.data import DataLoader, TensorDataset\n",
        "# N is batch size; \n",
        "# D_in is input dimension;\n",
        "# H is hidden dimension; D_out is output dimension.\n",
        "#L = 1000 -> H = 64\n",
        "\n",
        "# Define the batch size\n",
        "BATCH_SIZE = 64\n",
        "\n",
        "# Use torch.utils.data to create a DataLoader \n",
        "# that will take care of creating batches \n",
        "dataset = TensorDataset(X_train, y_train)\n",
        "dataloader = DataLoader(dataset, batch_size = BATCH_SIZE, shuffle=True)"
      ]
    },
    {
      "cell_type": "code",
      "execution_count": 9,
      "metadata": {
        "id": "-kxQKKpSQTMN"
      },
      "outputs": [],
      "source": [
        "import torch.nn as nn            # for torch.nn.Module, the parent object for PyTorch models\n",
        "import torch.nn.functional as F  # for the activation function\n",
        "\n",
        "# Create the model, loss function, and optimizer\n",
        "D_in, H, H2, H3, D_out = X_train.size()[1], 128, 128, 128, p\n",
        "\n",
        "# Dropout rate\n",
        "p1, p2, p3 = .2, .2, .2\n",
        "torch.manual_seed(2726)\n",
        "\n",
        "class Net(nn.Module):\n",
        "    def __init__(self):\n",
        "        super(Net, self).__init__()\n",
        "        self.fc1 = nn.Linear(D_in, H)\n",
        "        self.bn1 = nn.BatchNorm1d(num_features=H)\n",
        "        self.dn1 = nn.Dropout(p1)\n",
        "        \n",
        "        self.fc2 = nn.Linear(H, H2)\n",
        "        self.bn2 = nn.BatchNorm1d(num_features=H2)\n",
        "        self.dn1 = nn.Dropout(p2)\n",
        "        \n",
        "        self.fc3 = nn.Linear(H2, H3)\n",
        "        self.bn3 = nn.BatchNorm1d(num_features=H3)\n",
        "        self.dn1 = nn.Dropout(p3)\n",
        "        \n",
        "        self.fc4 = nn.Linear(H3, 3)\n",
        "\n",
        "    def forward(self, x):\n",
        "        x = F.relu(self.bn1(self.fc1(x)))\n",
        "        x = F.relu(self.bn2(self.fc2(x)))\n",
        "        x = F.relu(self.bn3(self.fc3(x)))\n",
        "        x = self.fc4(x)\n",
        "        return x\n",
        "\n",
        "net = Net()"
      ]
    },
    {
      "cell_type": "code",
      "execution_count": 10,
      "metadata": {
        "id": "cqOLeX1Fi_7K"
      },
      "outputs": [],
      "source": [
        "# Get the dataset size for printing (it is equal to N_SAMPLES)\n",
        "dataset_size = len(dataloader.dataset)"
      ]
    },
    {
      "cell_type": "code",
      "execution_count": 11,
      "metadata": {
        "colab": {
          "base_uri": "https://localhost:8080/"
        },
        "id": "hg99BcTjCdc9",
        "outputId": "f6a2adb5-3439-4beb-b922-f32de41a5920"
      },
      "outputs": [
        {
          "output_type": "stream",
          "name": "stdout",
          "text": [
            "Mounted at /content/gdrive\n"
          ]
        }
      ],
      "source": [
        "from google.colab import drive\n",
        "drive.mount('/content/gdrive')\n",
        "model_save_name = 'Jacobi_n500.pt'\n",
        "path = F\"/content/gdrive/My Drive/{model_save_name}\" "
      ]
    },
    {
      "cell_type": "code",
      "execution_count": 12,
      "metadata": {
        "colab": {
          "base_uri": "https://localhost:8080/"
        },
        "id": "u7mF2AHYFL4h",
        "outputId": "a52adfa0-3e79-41bc-b010-e2d581468dff"
      },
      "outputs": [
        {
          "output_type": "stream",
          "name": "stdout",
          "text": [
            "train_loss: 10.111428  [   64/70000]\n",
            "train_loss: 9.259163  [ 6464/70000]\n",
            "train_loss: 9.630331  [12864/70000]\n",
            "train_loss: 8.627475  [19264/70000]\n",
            "train_loss: 6.673641  [25664/70000]\n",
            "train_loss: 7.805552  [32064/70000]\n",
            "train_loss: 6.447940  [38464/70000]\n",
            "train_loss: 5.277498  [44864/70000]\n",
            "train_loss: 6.767798  [51264/70000]\n",
            "train_loss: 5.460464  [57664/70000]\n",
            "train_loss: 5.271185  [64064/70000]\n",
            "Epoch 1\n",
            "-------------------------------\n",
            "train_loss 4.770933 val_loss 5.418605\n",
            "1e-05\n",
            "train_loss: 0.585837  [   64/70000]\n",
            "train_loss: 0.587755  [ 6464/70000]\n",
            "train_loss: 0.692719  [12864/70000]\n",
            "train_loss: 0.566173  [19264/70000]\n",
            "train_loss: 0.596788  [25664/70000]\n",
            "train_loss: 0.678869  [32064/70000]\n",
            "train_loss: 0.636159  [38464/70000]\n",
            "train_loss: 0.559547  [44864/70000]\n",
            "train_loss: 0.578702  [51264/70000]\n",
            "train_loss: 0.759232  [57664/70000]\n",
            "train_loss: 0.585122  [64064/70000]\n",
            "Epoch 11\n",
            "-------------------------------\n",
            "train_loss 0.530644 val_loss 0.610224\n",
            "1e-05\n",
            "train_loss: 0.400272  [   64/70000]\n",
            "train_loss: 0.336524  [ 6464/70000]\n",
            "train_loss: 0.378398  [12864/70000]\n",
            "train_loss: 0.426251  [19264/70000]\n",
            "train_loss: 0.479216  [25664/70000]\n",
            "train_loss: 0.449746  [32064/70000]\n",
            "train_loss: 0.252197  [38464/70000]\n",
            "train_loss: 0.359211  [44864/70000]\n",
            "train_loss: 0.549604  [51264/70000]\n",
            "train_loss: 0.611593  [57664/70000]\n",
            "train_loss: 0.326281  [64064/70000]\n",
            "Epoch 21\n",
            "-------------------------------\n",
            "train_loss 0.380726 val_loss 0.436282\n",
            "1e-05\n",
            "train_loss: 0.298997  [   64/70000]\n",
            "train_loss: 0.337669  [ 6464/70000]\n",
            "train_loss: 0.295397  [12864/70000]\n",
            "train_loss: 0.446111  [19264/70000]\n",
            "train_loss: 0.467280  [25664/70000]\n",
            "train_loss: 0.307420  [32064/70000]\n",
            "train_loss: 0.339667  [38464/70000]\n",
            "train_loss: 0.391701  [44864/70000]\n",
            "train_loss: 0.254476  [51264/70000]\n",
            "train_loss: 0.290928  [57664/70000]\n",
            "train_loss: 0.368255  [64064/70000]\n",
            "Epoch 31\n",
            "-------------------------------\n",
            "train_loss 0.349803 val_loss 0.398149\n",
            "1e-05\n",
            "train_loss: 0.292916  [   64/70000]\n",
            "train_loss: 0.252166  [ 6464/70000]\n",
            "train_loss: 0.340828  [12864/70000]\n",
            "train_loss: 0.275542  [19264/70000]\n",
            "train_loss: 0.392950  [25664/70000]\n",
            "train_loss: 0.336317  [32064/70000]\n",
            "train_loss: 0.274927  [38464/70000]\n",
            "train_loss: 0.255772  [44864/70000]\n",
            "train_loss: 0.351255  [51264/70000]\n",
            "train_loss: 0.319454  [57664/70000]\n",
            "train_loss: 0.350951  [64064/70000]\n",
            "Epoch 41\n",
            "-------------------------------\n",
            "train_loss 0.288318 val_loss 0.330129\n",
            "1e-05\n",
            "train_loss: 0.235406  [   64/70000]\n",
            "train_loss: 0.194385  [ 6464/70000]\n",
            "train_loss: 0.361494  [12864/70000]\n",
            "train_loss: 0.330061  [19264/70000]\n",
            "train_loss: 0.313586  [25664/70000]\n",
            "train_loss: 0.439785  [32064/70000]\n",
            "train_loss: 0.349723  [38464/70000]\n",
            "train_loss: 0.265770  [44864/70000]\n",
            "train_loss: 0.382039  [51264/70000]\n",
            "train_loss: 0.218681  [57664/70000]\n",
            "train_loss: 0.345313  [64064/70000]\n",
            "Epoch 51\n",
            "-------------------------------\n",
            "train_loss 0.277022 val_loss 0.319422\n",
            "1e-05\n",
            "train_loss: 0.217964  [   64/70000]\n",
            "train_loss: 0.319253  [ 6464/70000]\n",
            "train_loss: 0.242919  [12864/70000]\n",
            "train_loss: 0.224631  [19264/70000]\n",
            "train_loss: 0.348057  [25664/70000]\n",
            "train_loss: 0.243384  [32064/70000]\n",
            "train_loss: 0.216791  [38464/70000]\n",
            "train_loss: 0.296981  [44864/70000]\n",
            "train_loss: 0.295428  [51264/70000]\n",
            "train_loss: 0.426270  [57664/70000]\n",
            "train_loss: 0.237515  [64064/70000]\n",
            "Epoch 61\n",
            "-------------------------------\n",
            "train_loss 0.240222 val_loss 0.275095\n",
            "1e-05\n",
            "train_loss: 0.293649  [   64/70000]\n",
            "train_loss: 0.249803  [ 6464/70000]\n",
            "train_loss: 0.234883  [12864/70000]\n",
            "train_loss: 0.299535  [19264/70000]\n",
            "train_loss: 0.270747  [25664/70000]\n",
            "train_loss: 0.257369  [32064/70000]\n",
            "train_loss: 0.321834  [38464/70000]\n",
            "train_loss: 0.204288  [44864/70000]\n",
            "train_loss: 0.177248  [51264/70000]\n",
            "train_loss: 0.275494  [57664/70000]\n",
            "train_loss: 0.205898  [64064/70000]\n",
            "Epoch 71\n",
            "-------------------------------\n",
            "train_loss 0.245496 val_loss 0.285398\n",
            "1e-05\n",
            "train_loss: 0.159845  [   64/70000]\n",
            "train_loss: 0.209913  [ 6464/70000]\n",
            "train_loss: 0.327330  [12864/70000]\n",
            "train_loss: 0.149379  [19264/70000]\n",
            "train_loss: 0.242337  [25664/70000]\n",
            "train_loss: 0.354105  [32064/70000]\n",
            "train_loss: 0.349780  [38464/70000]\n",
            "train_loss: 0.246891  [44864/70000]\n",
            "train_loss: 0.247336  [51264/70000]\n",
            "train_loss: 0.188337  [57664/70000]\n",
            "train_loss: 0.291570  [64064/70000]\n",
            "Epoch 81\n",
            "-------------------------------\n",
            "train_loss 0.204524 val_loss 0.235097\n",
            "1e-05\n",
            "train_loss: 0.327211  [   64/70000]\n",
            "train_loss: 0.289877  [ 6464/70000]\n",
            "train_loss: 0.263212  [12864/70000]\n",
            "train_loss: 0.274750  [19264/70000]\n",
            "train_loss: 0.256147  [25664/70000]\n",
            "train_loss: 0.298210  [32064/70000]\n",
            "train_loss: 0.186480  [38464/70000]\n",
            "train_loss: 0.327574  [44864/70000]\n",
            "train_loss: 0.154148  [51264/70000]\n",
            "train_loss: 0.268998  [57664/70000]\n",
            "train_loss: 0.178076  [64064/70000]\n",
            "Epoch 91\n",
            "-------------------------------\n",
            "train_loss 0.209353 val_loss 0.241820\n",
            "1e-05\n",
            "train_loss: 0.261217  [   64/70000]\n",
            "train_loss: 0.175886  [ 6464/70000]\n",
            "train_loss: 0.217997  [12864/70000]\n",
            "train_loss: 0.288455  [19264/70000]\n",
            "train_loss: 0.151525  [25664/70000]\n",
            "train_loss: 0.225019  [32064/70000]\n",
            "train_loss: 0.218519  [38464/70000]\n",
            "train_loss: 0.272681  [44864/70000]\n",
            "train_loss: 0.198800  [51264/70000]\n",
            "train_loss: 0.215120  [57664/70000]\n",
            "train_loss: 0.148177  [64064/70000]\n",
            "Epoch 101\n",
            "-------------------------------\n",
            "train_loss 0.198336 val_loss 0.225277\n",
            "1.0000000000000002e-06\n",
            "train_loss: 0.201810  [   64/70000]\n",
            "train_loss: 0.281381  [ 6464/70000]\n",
            "train_loss: 0.227740  [12864/70000]\n",
            "train_loss: 0.228846  [19264/70000]\n",
            "train_loss: 0.127355  [25664/70000]\n",
            "train_loss: 0.177749  [32064/70000]\n",
            "train_loss: 0.150022  [38464/70000]\n",
            "train_loss: 0.246984  [44864/70000]\n",
            "train_loss: 0.267832  [51264/70000]\n",
            "train_loss: 0.183456  [57664/70000]\n",
            "train_loss: 0.254694  [64064/70000]\n",
            "Epoch 111\n",
            "-------------------------------\n",
            "train_loss 0.184159 val_loss 0.209576\n",
            "1.0000000000000002e-06\n",
            "train_loss: 0.253232  [   64/70000]\n",
            "train_loss: 0.213781  [ 6464/70000]\n",
            "train_loss: 0.177405  [12864/70000]\n",
            "train_loss: 0.238536  [19264/70000]\n",
            "train_loss: 0.206027  [25664/70000]\n",
            "train_loss: 0.118972  [32064/70000]\n",
            "train_loss: 0.196013  [38464/70000]\n",
            "train_loss: 0.285444  [44864/70000]\n",
            "train_loss: 0.281802  [51264/70000]\n",
            "train_loss: 0.252317  [57664/70000]\n",
            "train_loss: 0.264050  [64064/70000]\n",
            "Epoch 121\n",
            "-------------------------------\n",
            "train_loss 0.234783 val_loss 0.264654\n",
            "1.0000000000000002e-06\n",
            "train_loss: 0.162991  [   64/70000]\n",
            "train_loss: 0.242606  [ 6464/70000]\n",
            "train_loss: 0.187883  [12864/70000]\n",
            "train_loss: 0.214326  [19264/70000]\n",
            "train_loss: 0.307519  [25664/70000]\n",
            "train_loss: 0.220821  [32064/70000]\n",
            "train_loss: 0.174138  [38464/70000]\n",
            "train_loss: 0.183165  [44864/70000]\n",
            "train_loss: 0.198621  [51264/70000]\n",
            "train_loss: 0.242185  [57664/70000]\n",
            "train_loss: 0.268453  [64064/70000]\n",
            "Epoch 131\n",
            "-------------------------------\n",
            "train_loss 0.207084 val_loss 0.237686\n",
            "1.0000000000000002e-06\n",
            "train_loss: 0.282530  [   64/70000]\n",
            "train_loss: 0.170836  [ 6464/70000]\n",
            "train_loss: 0.280289  [12864/70000]\n",
            "train_loss: 0.317483  [19264/70000]\n",
            "train_loss: 0.185510  [25664/70000]\n",
            "train_loss: 0.197765  [32064/70000]\n",
            "train_loss: 0.210186  [38464/70000]\n",
            "train_loss: 0.242503  [44864/70000]\n",
            "train_loss: 0.161478  [51264/70000]\n",
            "train_loss: 0.150241  [57664/70000]\n",
            "train_loss: 0.101718  [64064/70000]\n",
            "Epoch 141\n",
            "-------------------------------\n",
            "train_loss 0.173811 val_loss 0.199293\n",
            "1.0000000000000002e-06\n",
            "train_loss: 0.117934  [   64/70000]\n",
            "train_loss: 0.167980  [ 6464/70000]\n",
            "train_loss: 0.195428  [12864/70000]\n",
            "train_loss: 0.327418  [19264/70000]\n",
            "train_loss: 0.179491  [25664/70000]\n",
            "train_loss: 0.202614  [32064/70000]\n",
            "train_loss: 0.142577  [38464/70000]\n",
            "train_loss: 0.196560  [44864/70000]\n",
            "train_loss: 0.222794  [51264/70000]\n",
            "train_loss: 0.171944  [57664/70000]\n",
            "train_loss: 0.160209  [64064/70000]\n",
            "Epoch 151\n",
            "-------------------------------\n",
            "train_loss 0.171075 val_loss 0.194785\n",
            "1.0000000000000002e-06\n",
            "train_loss: 0.157430  [   64/70000]\n",
            "train_loss: 0.143497  [ 6464/70000]\n",
            "train_loss: 0.160662  [12864/70000]\n",
            "train_loss: 0.188010  [19264/70000]\n",
            "train_loss: 0.256740  [25664/70000]\n",
            "train_loss: 0.151297  [32064/70000]\n",
            "train_loss: 0.227871  [38464/70000]\n",
            "train_loss: 0.130552  [44864/70000]\n",
            "train_loss: 0.152946  [51264/70000]\n",
            "train_loss: 0.191580  [57664/70000]\n",
            "train_loss: 0.122678  [64064/70000]\n",
            "Epoch 161\n",
            "-------------------------------\n",
            "train_loss 0.193296 val_loss 0.221812\n",
            "1.0000000000000002e-06\n",
            "train_loss: 0.235385  [   64/70000]\n",
            "train_loss: 0.225842  [ 6464/70000]\n",
            "train_loss: 0.219179  [12864/70000]\n",
            "train_loss: 0.193441  [19264/70000]\n",
            "train_loss: 0.184130  [25664/70000]\n",
            "train_loss: 0.146207  [32064/70000]\n",
            "train_loss: 0.168286  [38464/70000]\n",
            "train_loss: 0.137226  [44864/70000]\n",
            "train_loss: 0.206796  [51264/70000]\n",
            "train_loss: 0.195497  [57664/70000]\n",
            "train_loss: 0.166530  [64064/70000]\n",
            "Epoch 171\n",
            "-------------------------------\n",
            "train_loss 0.158063 val_loss 0.182212\n",
            "1.0000000000000002e-06\n",
            "train_loss: 0.209023  [   64/70000]\n",
            "train_loss: 0.157456  [ 6464/70000]\n",
            "train_loss: 0.238285  [12864/70000]\n",
            "train_loss: 0.207306  [19264/70000]\n",
            "train_loss: 0.189902  [25664/70000]\n",
            "train_loss: 0.179139  [32064/70000]\n",
            "train_loss: 0.179235  [38464/70000]\n",
            "train_loss: 0.163752  [44864/70000]\n",
            "train_loss: 0.151059  [51264/70000]\n",
            "train_loss: 0.213814  [57664/70000]\n",
            "train_loss: 0.257825  [64064/70000]\n",
            "Epoch 181\n",
            "-------------------------------\n",
            "train_loss 0.158641 val_loss 0.183296\n",
            "1.0000000000000002e-06\n",
            "train_loss: 0.229820  [   64/70000]\n",
            "train_loss: 0.154067  [ 6464/70000]\n",
            "train_loss: 0.211578  [12864/70000]\n",
            "train_loss: 0.145556  [19264/70000]\n",
            "train_loss: 0.191525  [25664/70000]\n",
            "train_loss: 0.160931  [32064/70000]\n",
            "train_loss: 0.258824  [38464/70000]\n",
            "train_loss: 0.237086  [44864/70000]\n",
            "train_loss: 0.188439  [51264/70000]\n",
            "train_loss: 0.152736  [57664/70000]\n",
            "train_loss: 0.235195  [64064/70000]\n",
            "Epoch 191\n",
            "-------------------------------\n",
            "train_loss 0.169387 val_loss 0.192182\n",
            "1.0000000000000002e-06\n",
            "train_loss: 0.161480  [   64/70000]\n",
            "train_loss: 0.249019  [ 6464/70000]\n",
            "train_loss: 0.232124  [12864/70000]\n",
            "train_loss: 0.244473  [19264/70000]\n",
            "train_loss: 0.213413  [25664/70000]\n",
            "train_loss: 0.224998  [32064/70000]\n",
            "train_loss: 0.179078  [38464/70000]\n",
            "train_loss: 0.255199  [44864/70000]\n",
            "train_loss: 0.147885  [51264/70000]\n",
            "train_loss: 0.221067  [57664/70000]\n",
            "train_loss: 0.169354  [64064/70000]\n",
            "Epoch 201\n",
            "-------------------------------\n",
            "train_loss 0.159555 val_loss 0.182617\n",
            "1.0000000000000002e-07\n",
            "train_loss: 0.215436  [   64/70000]\n",
            "train_loss: 0.185118  [ 6464/70000]\n",
            "train_loss: 0.145066  [12864/70000]\n",
            "train_loss: 0.115894  [19264/70000]\n",
            "train_loss: 0.187107  [25664/70000]\n",
            "train_loss: 0.146808  [32064/70000]\n",
            "train_loss: 0.243715  [38464/70000]\n",
            "train_loss: 0.212351  [44864/70000]\n",
            "train_loss: 0.196783  [51264/70000]\n",
            "train_loss: 0.187355  [57664/70000]\n",
            "train_loss: 0.208347  [64064/70000]\n",
            "Epoch 211\n",
            "-------------------------------\n",
            "train_loss 0.157457 val_loss 0.181452\n",
            "1.0000000000000002e-07\n",
            "train_loss: 0.221682  [   64/70000]\n",
            "train_loss: 0.127999  [ 6464/70000]\n",
            "train_loss: 0.248382  [12864/70000]\n",
            "train_loss: 0.150500  [19264/70000]\n",
            "train_loss: 0.156800  [25664/70000]\n",
            "train_loss: 0.198841  [32064/70000]\n",
            "train_loss: 0.142272  [38464/70000]\n",
            "train_loss: 0.218742  [44864/70000]\n",
            "train_loss: 0.206497  [51264/70000]\n",
            "train_loss: 0.131426  [57664/70000]\n",
            "train_loss: 0.173553  [64064/70000]\n",
            "Epoch 221\n",
            "-------------------------------\n",
            "train_loss 0.158895 val_loss 0.181569\n",
            "1.0000000000000002e-07\n",
            "train_loss: 0.267384  [   64/70000]\n",
            "train_loss: 0.180965  [ 6464/70000]\n",
            "train_loss: 0.252342  [12864/70000]\n",
            "train_loss: 0.253658  [19264/70000]\n",
            "train_loss: 0.192864  [25664/70000]\n",
            "train_loss: 0.210195  [32064/70000]\n",
            "train_loss: 0.174577  [38464/70000]\n",
            "train_loss: 0.206090  [44864/70000]\n",
            "train_loss: 0.188474  [51264/70000]\n",
            "train_loss: 0.199512  [57664/70000]\n",
            "train_loss: 0.200506  [64064/70000]\n",
            "Epoch 231\n",
            "-------------------------------\n",
            "train_loss 0.159490 val_loss 0.182359\n",
            "1.0000000000000002e-07\n",
            "train_loss: 0.161863  [   64/70000]\n",
            "train_loss: 0.176206  [ 6464/70000]\n",
            "train_loss: 0.134431  [12864/70000]\n",
            "train_loss: 0.125587  [19264/70000]\n",
            "train_loss: 0.166151  [25664/70000]\n",
            "train_loss: 0.161881  [32064/70000]\n",
            "train_loss: 0.196374  [38464/70000]\n",
            "train_loss: 0.235121  [44864/70000]\n",
            "train_loss: 0.152645  [51264/70000]\n",
            "train_loss: 0.169735  [57664/70000]\n",
            "train_loss: 0.163208  [64064/70000]\n",
            "Epoch 241\n",
            "-------------------------------\n",
            "train_loss 0.163385 val_loss 0.186150\n",
            "1.0000000000000002e-07\n"
          ]
        }
      ],
      "source": [
        "# The nn package also contains definitions of popular loss functions; in this\n",
        "# case we will use Mean Squared Error (MSE) as our loss function.\n",
        "loss_fn = torch.nn.MSELoss(reduction='sum')\n",
        "learning_rate = 1e-5\n",
        "optimizer = torch.optim.Adam(net.parameters(), lr=learning_rate, weight_decay=1e-5)\n",
        "\n",
        "N_EPOCHS = 250\n",
        "train_error_plt = []\n",
        "val_error_plt = []\n",
        "\n",
        "# Loop over epochs\n",
        "for epoch in range(N_EPOCHS):\n",
        "    for id_batch, (x_batch, y_batch) in enumerate(dataloader):\n",
        "        y_batch_pred = net(x_batch)\n",
        "        loss = loss_fn(y_batch_pred, y_batch)\n",
        "      \n",
        "        optimizer.zero_grad()\n",
        "        loss.backward()\n",
        "        optimizer.step()\n",
        "\n",
        "        if epoch % 10 ==0 and id_batch % 100 == 0:\n",
        "            loss, current = loss.item(), (id_batch + 1)* len(x_batch)\n",
        "            print(f\"train_loss: {loss/BATCH_SIZE:>7f}  [{current:>5d}/{dataset_size:>5d}]\")\n",
        "    \n",
        "    with torch.no_grad():\n",
        "           net.eval()\n",
        "           theta_pred_train = net(X_train)\n",
        "           train_loss = loss_fn(theta_pred_train,y_train) / (L-Lval)\n",
        "           train_error_plt = np.append(train_error_plt, train_loss)\n",
        "           \n",
        "           theta_pred_val = net(X_val)\n",
        "           val_loss = loss_fn(y_val, theta_pred_val) / (Lval)\n",
        "           val_error_plt = np.append(val_error_plt, val_loss)\n",
        "           \n",
        "    if epoch % 10 ==0:\n",
        "        print(f\"Epoch {epoch + 1}\\n-------------------------------\")\n",
        "        print(f\"train_loss {train_loss:>7f} val_loss {val_loss:>7f}\")\n",
        "        print(learning_rate)\n",
        "            \n",
        "    # Choose Best Model\n",
        "    if val_error_plt[epoch] == np.min(val_error_plt):\n",
        "         best=epoch\n",
        "         torch.save(net.state_dict(), path)\n",
        "\n",
        "    if epoch % 100 ==99:\n",
        "        net.load_state_dict(torch.load(path))\n",
        "        learning_rate = max(learning_rate * 1e-1, 1e-10)  "
      ]
    },
    {
      "cell_type": "code",
      "execution_count": 13,
      "metadata": {
        "id": "-X4DJVXO6-QJ",
        "colab": {
          "base_uri": "https://localhost:8080/",
          "height": 319
        },
        "outputId": "bd37a6f4-14dc-46f0-82a3-e4f3a3a97e4f"
      },
      "outputs": [
        {
          "output_type": "stream",
          "name": "stdout",
          "text": [
            "0.1694653332233429\n",
            "239\n"
          ]
        },
        {
          "output_type": "execute_result",
          "data": {
            "text/plain": [
              "<matplotlib.legend.Legend at 0x7fc8201d2bb0>"
            ]
          },
          "metadata": {},
          "execution_count": 13
        },
        {
          "output_type": "display_data",
          "data": {
            "text/plain": [
              "<Figure size 432x288 with 1 Axes>"
            ],
            "image/png": "[encoded data removed]"
          },
          "metadata": {
            "needs_background": "light"
          }
        }
      ],
      "source": [
        "net.load_state_dict(torch.load(path))\n",
        "print(np.min(val_error_plt))\n",
        "print(np.argmin(val_error_plt))\n",
        "\n",
        "plt.plot(np.arange(N_EPOCHS), train_error_plt, color = \"r\")\n",
        "plt.plot(np.arange(N_EPOCHS), val_error_plt)\n",
        "plt.legend([\"train\", \"validation\"], loc =\"upper right\")\n",
        "\n"
      ]
    },
    {
      "cell_type": "code",
      "execution_count": 14,
      "metadata": {
        "id": "DlIKb0s-oEtl",
        "colab": {
          "base_uri": "https://localhost:8080/",
          "height": 376
        },
        "outputId": "2ba6e127-0af0-43bc-b091-e3c9e3145e14"
      },
      "outputs": [
        {
          "output_type": "display_data",
          "data": {
            "text/plain": [
              "<Figure size 1296x360 with 3 Axes>"
            ],
            "image/png": "[encoded data removed]"
          },
          "metadata": {
            "needs_background": "light"
          }
        }
      ],
      "source": [
        "with torch.no_grad():\n",
        "  net.eval()\n",
        "  tmp1 = net(X_test)[:,0]\n",
        "  tmp2 = net(X_test)[:,1]\n",
        "  tmp3 = net(X_test)[:,2]\n",
        "\n",
        "  tmp1 = tmp1.detach().cpu().numpy().tolist()\n",
        "  tmp2 = tmp2.detach().cpu().numpy().tolist()\n",
        "  tmp3 = tmp3.detach().cpu().numpy().tolist()\n",
        "\n",
        "# Plot for model checking\n",
        "lim1 = [a_range[0] * 0.8, a_range[1] * 1.1]\n",
        "lim2 = [b_range[0] * 0.8, b_range[1] * 1.1]\n",
        "lim3 = [sigma_range[0] * 0.8, sigma_range[1] * 1.1]\n",
        "\n",
        "fig, (ax1, ax2, ax3) = plt.subplots(1, 3, figsize=(18,5))\n",
        "fig.suptitle('Learning Checking')\n",
        "\n",
        "ax1.scatter(y_test[:,0], tmp1, marker='o', color='b', s =1)\n",
        "ax1.set_xlabel('true $\\kappa$', fontsize=15)\n",
        "ax1.set_ylabel('$\\hat{\\kappa}$', fontsize=15)\n",
        "ax1.plot(np.linspace(lim1[0], lim1[1], 1000), np.linspace(lim1[0], lim1[1], 1000), color = \"red\", linestyle='dashed', linewidth = 2.5)\n",
        "ax1.set_axisbelow(True)\n",
        "ax1.grid(color='gray', linestyle='dashed')\n",
        "\n",
        "ax2.scatter(y_test[:,1], tmp2, marker='o', color='b', s =1)\n",
        "ax2.set_xlabel(r'true $\\alpha$', fontsize=15 )\n",
        "ax2.set_ylabel(r'$\\hat{\\alpha}$', fontsize=15)\n",
        "ax2.plot(np.linspace(lim2[0], lim2[1], 1000), np.linspace(lim2[0], lim2[1], 1000), color = \"red\", linestyle='dashed', linewidth = 2.5)\n",
        "ax2.set_axisbelow(True)\n",
        "ax2.grid(color='gray', linestyle='dashed')\n",
        "\n",
        "ax3.scatter(y_test[:,2], tmp3, marker='o', color='b', s =1)\n",
        "ax3.set_xlabel('true $\\sigma$', fontsize=15)\n",
        "ax3.set_ylabel('$\\hat{\\sigma}$', fontsize=15)\n",
        "ax3.plot(np.linspace(lim3[0], lim3[1], 1000), np.linspace(lim3[0], lim3[1], 1000), color = \"red\", linestyle='dashed', linewidth = 2.5)\n",
        "ax3.set_axisbelow(True)\n",
        "ax3.grid(color='gray', linestyle='dashed')\n",
        "\n",
        "plt.show()"
      ]
    },
    {
      "cell_type": "code",
      "execution_count": 18,
      "metadata": {
        "id": "FM-UK6yTxSjh",
        "colab": {
          "base_uri": "https://localhost:8080/",
          "height": 144
        },
        "outputId": "d351380e-635c-4c7f-c2f1-2ae34155c01b"
      },
      "outputs": [
        {
          "output_type": "display_data",
          "data": {
            "text/plain": [
              "<IPython.core.display.HTML object>"
            ],
            "text/html": [
              "\n",
              "     <input type=\"file\" id=\"files-e954f181-b255-4389-b88f-8e0eb78c6c22\" name=\"files[]\" multiple disabled\n",
              "        style=\"border:none\" />\n",
              "     <output id=\"result-e954f181-b255-4389-b88f-8e0eb78c6c22\">\n",
              "      Upload widget is only available when the cell has been executed in the\n",
              "      current browser session. Please rerun this cell to enable.\n",
              "      </output>\n",
              "      <script>// Copyright 2017 Google LLC\n",
              "//\n",
              "// Licensed under the Apache License, Version 2.0 (the \"License\");\n",
              "// you may not use this file except in compliance with the License.\n",
              "// You may obtain a copy of the License at\n",
              "//\n",
              "//      http://www.apache.org/licenses/LICENSE-2.0\n",
              "//\n",
              "// Unless required by applicable law or agreed to in writing, software\n",
              "// distributed under the License is distributed on an \"AS IS\" BASIS,\n",
              "// WITHOUT WARRANTIES OR CONDITIONS OF ANY KIND, either express or implied.\n",
              "// See the License for the specific language governing permissions and\n",
              "// limitations under the License.\n",
              "\n",
              "/**\n",
              " * @fileoverview Helpers for google.colab Python module.\n",
              " */\n",
              "(function(scope) {\n",
              "function span(text, styleAttributes = {}) {\n",
              "  const element = document.createElement('span');\n",
              "  element.textContent = text;\n",
              "  for (const key of Object.keys(styleAttributes)) {\n",
              "    element.style[key] = styleAttributes[key];\n",
              "  }\n",
              "  return element;\n",
              "}\n",
              "\n",
              "// Max number of bytes which will be uploaded at a time.\n",
              "const MAX_PAYLOAD_SIZE = 100 * 1024;\n",
              "\n",
              "function _uploadFiles(inputId, outputId) {\n",
              "  const steps = uploadFilesStep(inputId, outputId);\n",
              "  const outputElement = document.getElementById(outputId);\n",
              "  // Cache steps on the outputElement to make it available for the next call\n",
              "  // to uploadFilesContinue from Python.\n",
              "  outputElement.steps = steps;\n",
              "\n",
              "  return _uploadFilesContinue(outputId);\n",
              "}\n",
              "\n",
              "// This is roughly an async generator (not supported in the browser yet),\n",
              "// where there are multiple asynchronous steps and the Python side is going\n",
              "// to poll for completion of each step.\n",
              "// This uses a Promise to block the python side on completion of each step,\n",
              "// then passes the result of the previous step as the input to the next step.\n",
              "function _uploadFilesContinue(outputId) {\n",
              "  const outputElement = document.getElementById(outputId);\n",
              "  const steps = outputElement.steps;\n",
              "\n",
              "  const next = steps.next(outputElement.lastPromiseValue);\n",
              "  return Promise.resolve(next.value.promise).then((value) => {\n",
              "    // Cache the last promise value to make it available to the next\n",
              "    // step of the generator.\n",
              "    outputElement.lastPromiseValue = value;\n",
              "    return next.value.response;\n",
              "  });\n",
              "}\n",
              "\n",
              "/**\n",
              " * Generator function which is called between each async step of the upload\n",
              " * process.\n",
              " * @param {string} inputId Element ID of the input file picker element.\n",
              " * @param {string} outputId Element ID of the output display.\n",
              " * @return {!Iterable<!Object>} Iterable of next steps.\n",
              " */\n",
              "function* uploadFilesStep(inputId, outputId) {\n",
              "  const inputElement = document.getElementById(inputId);\n",
              "  inputElement.disabled = false;\n",
              "\n",
              "  const outputElement = document.getElementById(outputId);\n",
              "  outputElement.innerHTML = '';\n",
              "\n",
              "  const pickedPromise = new Promise((resolve) => {\n",
              "    inputElement.addEventListener('change', (e) => {\n",
              "      resolve(e.target.files);\n",
              "    });\n",
              "  });\n",
              "\n",
              "  const cancel = document.createElement('button');\n",
              "  inputElement.parentElement.appendChild(cancel);\n",
              "  cancel.textContent = 'Cancel upload';\n",
              "  const cancelPromise = new Promise((resolve) => {\n",
              "    cancel.onclick = () => {\n",
              "      resolve(null);\n",
              "    };\n",
              "  });\n",
              "\n",
              "  // Wait for the user to pick the files.\n",
              "  const files = yield {\n",
              "    promise: Promise.race([pickedPromise, cancelPromise]),\n",
              "    response: {\n",
              "      action: 'starting',\n",
              "    }\n",
              "  };\n",
              "\n",
              "  cancel.remove();\n",
              "\n",
              "  // Disable the input element since further picks are not allowed.\n",
              "  inputElement.disabled = true;\n",
              "\n",
              "  if (!files) {\n",
              "    return {\n",
              "      response: {\n",
              "        action: 'complete',\n",
              "      }\n",
              "    };\n",
              "  }\n",
              "\n",
              "  for (const file of files) {\n",
              "    const li = document.createElement('li');\n",
              "    li.append(span(file.name, {fontWeight: 'bold'}));\n",
              "    li.append(span(\n",
              "        `(${file.type || 'n/a'}) - ${file.size} bytes, ` +\n",
              "        `last modified: ${\n",
              "            file.lastModifiedDate ? file.lastModifiedDate.toLocaleDateString() :\n",
              "                                    'n/a'} - `));\n",
              "    const percent = span('0% done');\n",
              "    li.appendChild(percent);\n",
              "\n",
              "    outputElement.appendChild(li);\n",
              "\n",
              "    const fileDataPromise = new Promise((resolve) => {\n",
              "      const reader = new FileReader();\n",
              "      reader.onload = (e) => {\n",
              "        resolve(e.target.result);\n",
              "      };\n",
              "      reader.readAsArrayBuffer(file);\n",
              "    });\n",
              "    // Wait for the data to be ready.\n",
              "    let fileData = yield {\n",
              "      promise: fileDataPromise,\n",
              "      response: {\n",
              "        action: 'continue',\n",
              "      }\n",
              "    };\n",
              "\n",
              "    // Use a chunked sending to avoid message size limits. See b/62115660.\n",
              "    let position = 0;\n",
              "    do {\n",
              "      const length = Math.min(fileData.byteLength - position, MAX_PAYLOAD_SIZE);\n",
              "      const chunk = new Uint8Array(fileData, position, length);\n",
              "      position += length;\n",
              "\n",
              "      const base64 = btoa(String.fromCharCode.apply(null, chunk));\n",
              "      yield {\n",
              "        response: {\n",
              "          action: 'append',\n",
              "          file: file.name,\n",
              "          data: base64,\n",
              "        },\n",
              "      };\n",
              "\n",
              "      let percentDone = fileData.byteLength === 0 ?\n",
              "          100 :\n",
              "          Math.round((position / fileData.byteLength) * 100);\n",
              "      percent.textContent = `${percentDone}% done`;\n",
              "\n",
              "    } while (position < fileData.byteLength);\n",
              "  }\n",
              "\n",
              "  // All done.\n",
              "  yield {\n",
              "    response: {\n",
              "      action: 'complete',\n",
              "    }\n",
              "  };\n",
              "}\n",
              "\n",
              "scope.google = scope.google || {};\n",
              "scope.google.colab = scope.google.colab || {};\n",
              "scope.google.colab._files = {\n",
              "  _uploadFiles,\n",
              "  _uploadFilesContinue,\n",
              "};\n",
              "})(self);\n",
              "</script> "
            ]
          },
          "metadata": {}
        },
        {
          "output_type": "stream",
          "name": "stdout",
          "text": [
            "Saving sim_data_Jacobi_500_1.csv to sim_data_Jacobi_500_1.csv\n",
            "Saving sim_data_Jacobi_500_2.csv to sim_data_Jacobi_500_2.csv\n",
            "Saving sim_data_Jacobi_500_3.csv to sim_data_Jacobi_500_3.csv\n"
          ]
        }
      ],
      "source": [
        "import pandas as pd\n",
        "from google.colab import files\n",
        "uploaded = files.upload()"
      ]
    },
    {
      "cell_type": "code",
      "source": [
        "import io\n",
        "df1 = pd.read_csv(io.BytesIO(uploaded['sim_data_Jacobi_500_1.csv']))\n",
        "df2 = pd.read_csv(io.BytesIO(uploaded['sim_data_Jacobi_500_2.csv']))\n",
        "df3 = pd.read_csv(io.BytesIO(uploaded['sim_data_Jacobi_500_3.csv']))"
      ],
      "metadata": {
        "id": "m3U7Oc-FwGEK"
      },
      "execution_count": 19,
      "outputs": []
    },
    {
      "cell_type": "code",
      "execution_count": 21,
      "metadata": {
        "id": "Cst5JGzoF-dW"
      },
      "outputs": [],
      "source": [
        "sim_data1= torch.tensor(df1.values.astype(np.float32))[:,1:(n+2)]\n",
        "sim_data2= torch.tensor(df2.values.astype(np.float32))[:,1:(n+2)]\n",
        "sim_data3= torch.tensor(df3.values.astype(np.float32))[:,1:(n+2)]\n",
        "sim_data1_mom = moment_L(sim_data1)\n",
        "sim_data2_mom = moment_L(sim_data2)\n",
        "sim_data3_mom = moment_L(sim_data3)\n",
        "sim = sim_data1.size()[0]"
      ]
    },
    {
      "cell_type": "code",
      "execution_count": 22,
      "metadata": {
        "id": "Ty3Q4ckW6_I8",
        "colab": {
          "base_uri": "https://localhost:8080/"
        },
        "outputId": "3d43a0a7-73b1-47e6-e1af-9b991134ec29"
      },
      "outputs": [
        {
          "output_type": "stream",
          "name": "stdout",
          "text": [
            "Mounted at /content/gdrive1\n"
          ]
        }
      ],
      "source": [
        "from google.colab import drive\n",
        "drive.mount('/content/gdrive1')\n",
        "torch.save(sim_data1,F\"/content/gdrive1/My Drive/Colab Notebooks/Jacobi_500_1.pt\" )\n",
        "torch.save(sim_data2,F\"/content/gdrive1/My Drive/Colab Notebooks/Jacobi_500_2.pt\" )\n",
        "torch.save(sim_data3,F\"/content/gdrive1/My Drive/Colab Notebooks/Jacobi_500_3.pt\" )"
      ]
    },
    {
      "cell_type": "code",
      "execution_count": 23,
      "metadata": {
        "id": "KmsDys2O7CU2",
        "colab": {
          "base_uri": "https://localhost:8080/"
        },
        "outputId": "d17a609d-a562-404c-b6ad-1346bce76203"
      },
      "outputs": [
        {
          "output_type": "stream",
          "name": "stdout",
          "text": [
            "Drive already mounted at /content/gdrive1; to attempt to forcibly remount, call drive.mount(\"/content/gdrive1\", force_remount=True).\n"
          ]
        }
      ],
      "source": [
        "drive.mount('/content/gdrive1')\n",
        "\n",
        "sim_data1= torch.load(F\"/content/gdrive1/My Drive/Colab Notebooks/Jacobi_500_1.pt\" )\n",
        "sim_data2= torch.load(F\"/content/gdrive1/My Drive/Colab Notebooks/Jacobi_500_2.pt\" )\n",
        "sim_data3= torch.load(F\"/content/gdrive1/My Drive/Colab Notebooks/Jacobi_500_3.pt\" )\n",
        "sim_data1_mom = moment_L(sim_data1)\n",
        "sim_data2_mom = moment_L(sim_data2)\n",
        "sim_data3_mom = moment_L(sim_data3)\n",
        "sim = sim_data1.size()[0]"
      ]
    },
    {
      "cell_type": "code",
      "execution_count": 24,
      "metadata": {
        "id": "hX38170A6FEB"
      },
      "outputs": [],
      "source": [
        "param1 = torch.Tensor([3, 0.2, 0.5])\n",
        "param2 = torch.Tensor([4,0.5,0.7])\n",
        "param3 = torch.Tensor([2,0.6,0.2])"
      ]
    },
    {
      "cell_type": "code",
      "execution_count": 25,
      "metadata": {
        "id": "ERDlC9i_GJzd",
        "colab": {
          "base_uri": "https://localhost:8080/"
        },
        "outputId": "a9ffb88e-fa7a-4c44-c6c0-abb154e392de"
      },
      "outputs": [
        {
          "output_type": "stream",
          "name": "stdout",
          "text": [
            "NCoin-DP\n",
            "tensor([2.8595, 0.2018, 0.4948], grad_fn=<MeanBackward1>) tensor([0.4374, 0.0092, 0.0230], grad_fn=<StdBackward0>)\n",
            "tensor([3.8134, 0.5084, 0.6767], grad_fn=<MeanBackward1>) tensor([0.4050, 0.0120, 0.0309], grad_fn=<StdBackward0>)\n",
            "tensor([2.1118, 0.5999, 0.1997], grad_fn=<MeanBackward1>) tensor([0.2716, 0.0077, 0.0093], grad_fn=<StdBackward0>)\n",
            "NCoin-DP RMSE\n",
            "tensor(0.4597, grad_fn=<SqrtBackward0>)\n",
            "tensor(0.4475, grad_fn=<SqrtBackward0>)\n",
            "tensor(0.2937, grad_fn=<SqrtBackward0>)\n"
          ]
        }
      ],
      "source": [
        "net.eval()\n",
        "print(\"NCoin-DP\")\n",
        "print(torch.mean(net(sim_data1_mom),0),torch.std(net(sim_data1_mom),0))\n",
        "print(torch.mean(net(sim_data2_mom),0),torch.std(net(sim_data2_mom),0))\n",
        "print(torch.mean(net(sim_data3_mom),0),torch.std(net(sim_data3_mom),0)) \n",
        "\n",
        "print(\"NCoin-DP RMSE\")\n",
        "print(torch.sqrt((torch.sum(torch.square(net(sim_data1_mom)[:,0] - param1[0])) +torch.sum(torch.square(net(sim_data1_mom)[:,1] - param1[1])) +torch.sum(torch.square(net(sim_data1_mom)[:,2] - param1[2]))) /sim ) )\n",
        "print(torch.sqrt((torch.sum(torch.square(net(sim_data2_mom)[:,0] - param2[0])) +torch.sum(torch.square(net(sim_data2_mom)[:,1] - param2[1])) +torch.sum(torch.square(net(sim_data2_mom)[:,2] - param2[2])))/sim) )\n",
        "print(torch.sqrt((torch.sum(torch.square(net(sim_data3_mom)[:,0] - param3[0])) +torch.sum(torch.square(net(sim_data3_mom)[:,1] - param3[1])) +torch.sum(torch.square(net(sim_data3_mom)[:,2] - param3[2])))/sim))"
      ]
    },
    {
      "cell_type": "code",
      "execution_count": null,
      "metadata": {
        "id": "fm4uuTT78epq"
      },
      "outputs": [],
      "source": []
    }
  ],
  "metadata": {
    "accelerator": "GPU",
    "colab": {
      "provenance": [],
      "authorship_tag": "ABX9TyMsZFqxZ3RRLRslbKgBN+I1",
      "include_colab_link": true
    },
    "gpuClass": "standard",
    "kernelspec": {
      "display_name": "Python 3",
      "name": "python3"
    },
    "language_info": {
      "name": "python"
    }
  },
  "nbformat": 4,
  "nbformat_minor": 0
}